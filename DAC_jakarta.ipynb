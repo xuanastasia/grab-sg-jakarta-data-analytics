{
  "cells": [
    {
      "cell_type": "markdown",
      "metadata": {
        "id": "YpmvZWZAUoWQ"
      },
      "source": [
        "# Objective\n",
        "\n",
        "1. Data preparation and engineering\n",
        "2. Introduction to geospatial visualization library Folium\n",
        "3. Preliminary analysis on the dataset"
      ]
    },
    {
      "cell_type": "markdown",
      "metadata": {
        "id": "RVng7KyaU-Wb"
      },
      "source": [
        "# Import data\n",
        "\n",
        "*Required dependencies*\n",
        "\n",
        "- pandas\n",
        "- pyarrow / fastparquet\n",
        "- folium\n",
        "- branca (with folium)\n"
      ]
    },
    {
      "cell_type": "code",
      "execution_count": null,
      "metadata": {
        "colab": {
          "base_uri": "https://localhost:8080/"
        },
        "id": "bNUr9LxtXRT4",
        "outputId": "e2b9b1de-f3ea-4752-c25a-cc3686c859c6"
      },
      "outputs": [
        {
          "output_type": "stream",
          "name": "stdout",
          "text": [
            "Mounted at /content/drive\n"
          ]
        }
      ],
      "source": [
        "# mount drive to access files\n",
        "from google.colab import drive\n",
        "drive.mount('/content/drive')"
      ]
    },
    {
      "cell_type": "code",
      "execution_count": null,
      "metadata": {
        "colab": {
          "base_uri": "https://localhost:8080/"
        },
        "id": "4oeOIRncMwqu",
        "outputId": "f56e5c4f-ec02-4fdf-a276-c7299965ed14"
      },
      "outputs": [
        {
          "output_type": "stream",
          "name": "stdout",
          "text": [
            "Archive:  /content/drive/MyDrive/Grab-Posisi dataset/grab-posis-city=Jakarta.zip\n",
            "   creating: city=Jakarta/\n",
            "  inflating: city=Jakarta/part-00003-8bbff892-97d2-4011-9961-703e38972569.c000.snappy.parquet  \n",
            "  inflating: city=Jakarta/part-00008-8bbff892-97d2-4011-9961-703e38972569.c000.snappy.parquet  \n",
            "  inflating: city=Jakarta/part-00004-8bbff892-97d2-4011-9961-703e38972569.c000.snappy.parquet  \n",
            "  inflating: city=Jakarta/part-00005-8bbff892-97d2-4011-9961-703e38972569.c000.snappy.parquet  \n",
            "  inflating: city=Jakarta/part-00002-8bbff892-97d2-4011-9961-703e38972569.c000.snappy.parquet  \n",
            "  inflating: city=Jakarta/part-00009-8bbff892-97d2-4011-9961-703e38972569.c000.snappy.parquet  \n",
            "  inflating: city=Jakarta/part-00007-8bbff892-97d2-4011-9961-703e38972569.c000.snappy.parquet  \n",
            "  inflating: city=Jakarta/part-00000-8bbff892-97d2-4011-9961-703e38972569.c000.snappy.parquet  \n",
            "  inflating: city=Jakarta/part-00001-8bbff892-97d2-4011-9961-703e38972569.c000.snappy.parquet  \n",
            "  inflating: city=Jakarta/part-00006-8bbff892-97d2-4011-9961-703e38972569.c000.snappy.parquet  \n"
          ]
        }
      ],
      "source": [
        "! unzip \"/content/drive/MyDrive/Grab-Posisi dataset/grab-posis-city=Jakarta.zip\""
      ]
    },
    {
      "cell_type": "markdown",
      "metadata": {
        "id": "eXDaDHgiWs-G"
      },
      "source": [
        "# Data preparation and engineering"
      ]
    },
    {
      "cell_type": "code",
      "execution_count": null,
      "metadata": {
        "id": "QLDfl37XLbvJ"
      },
      "outputs": [],
      "source": [
        "import pandas as pd\n",
        "import datetime"
      ]
    },
    {
      "cell_type": "code",
      "execution_count": null,
      "metadata": {
        "colab": {
          "base_uri": "https://localhost:8080/",
          "height": 424
        },
        "id": "IKlqp7vxMN6N",
        "outputId": "683da623-57cc-455e-dc4f-f89f3c67f4b7"
      },
      "outputs": [
        {
          "output_type": "execute_result",
          "data": {
            "text/html": [
              "\n",
              "  <div id=\"df-3f2f9e96-1908-4ddd-bf3b-f76377e8b519\">\n",
              "    <div class=\"colab-df-container\">\n",
              "      <div>\n",
              "<style scoped>\n",
              "    .dataframe tbody tr th:only-of-type {\n",
              "        vertical-align: middle;\n",
              "    }\n",
              "\n",
              "    .dataframe tbody tr th {\n",
              "        vertical-align: top;\n",
              "    }\n",
              "\n",
              "    .dataframe thead th {\n",
              "        text-align: right;\n",
              "    }\n",
              "</style>\n",
              "<table border=\"1\" class=\"dataframe\">\n",
              "  <thead>\n",
              "    <tr style=\"text-align: right;\">\n",
              "      <th></th>\n",
              "      <th>trj_id</th>\n",
              "      <th>driving_mode</th>\n",
              "      <th>osname</th>\n",
              "      <th>pingtimestamp</th>\n",
              "      <th>rawlat</th>\n",
              "      <th>rawlng</th>\n",
              "      <th>speed</th>\n",
              "      <th>bearing</th>\n",
              "      <th>accuracy</th>\n",
              "    </tr>\n",
              "  </thead>\n",
              "  <tbody>\n",
              "    <tr>\n",
              "      <th>0</th>\n",
              "      <td>4820</td>\n",
              "      <td>car</td>\n",
              "      <td>android</td>\n",
              "      <td>1554806010</td>\n",
              "      <td>-6.591032</td>\n",
              "      <td>106.834468</td>\n",
              "      <td>20.425203</td>\n",
              "      <td>194</td>\n",
              "      <td>4.000</td>\n",
              "    </tr>\n",
              "    <tr>\n",
              "      <th>1</th>\n",
              "      <td>46324</td>\n",
              "      <td>car</td>\n",
              "      <td>android</td>\n",
              "      <td>1554873765</td>\n",
              "      <td>-6.247526</td>\n",
              "      <td>106.977663</td>\n",
              "      <td>4.220000</td>\n",
              "      <td>101</td>\n",
              "      <td>10.720</td>\n",
              "    </tr>\n",
              "    <tr>\n",
              "      <th>2</th>\n",
              "      <td>15007</td>\n",
              "      <td>car</td>\n",
              "      <td>android</td>\n",
              "      <td>1555642661</td>\n",
              "      <td>-6.267404</td>\n",
              "      <td>107.036016</td>\n",
              "      <td>1.990000</td>\n",
              "      <td>108</td>\n",
              "      <td>3.149</td>\n",
              "    </tr>\n",
              "    <tr>\n",
              "      <th>3</th>\n",
              "      <td>4239</td>\n",
              "      <td>motorcycle</td>\n",
              "      <td>ios</td>\n",
              "      <td>1554859883</td>\n",
              "      <td>-6.293342</td>\n",
              "      <td>106.820029</td>\n",
              "      <td>1.010000</td>\n",
              "      <td>288</td>\n",
              "      <td>10.000</td>\n",
              "    </tr>\n",
              "    <tr>\n",
              "      <th>4</th>\n",
              "      <td>83096</td>\n",
              "      <td>motorcycle</td>\n",
              "      <td>ios</td>\n",
              "      <td>1554815699</td>\n",
              "      <td>-6.146359</td>\n",
              "      <td>106.871882</td>\n",
              "      <td>11.000000</td>\n",
              "      <td>14</td>\n",
              "      <td>10.000</td>\n",
              "    </tr>\n",
              "    <tr>\n",
              "      <th>...</th>\n",
              "      <td>...</td>\n",
              "      <td>...</td>\n",
              "      <td>...</td>\n",
              "      <td>...</td>\n",
              "      <td>...</td>\n",
              "      <td>...</td>\n",
              "      <td>...</td>\n",
              "      <td>...</td>\n",
              "      <td>...</td>\n",
              "    </tr>\n",
              "    <tr>\n",
              "      <th>5597257</th>\n",
              "      <td>55124</td>\n",
              "      <td>motorcycle</td>\n",
              "      <td>ios</td>\n",
              "      <td>1555860173</td>\n",
              "      <td>-6.224690</td>\n",
              "      <td>106.639591</td>\n",
              "      <td>6.630000</td>\n",
              "      <td>226</td>\n",
              "      <td>5.000</td>\n",
              "    </tr>\n",
              "    <tr>\n",
              "      <th>5597258</th>\n",
              "      <td>65951</td>\n",
              "      <td>car</td>\n",
              "      <td>android</td>\n",
              "      <td>1555732048</td>\n",
              "      <td>-6.141392</td>\n",
              "      <td>106.820090</td>\n",
              "      <td>6.750000</td>\n",
              "      <td>13</td>\n",
              "      <td>21.238</td>\n",
              "    </tr>\n",
              "    <tr>\n",
              "      <th>5597259</th>\n",
              "      <td>47190</td>\n",
              "      <td>car</td>\n",
              "      <td>android</td>\n",
              "      <td>1555832320</td>\n",
              "      <td>-6.188814</td>\n",
              "      <td>106.875438</td>\n",
              "      <td>20.930000</td>\n",
              "      <td>181</td>\n",
              "      <td>3.900</td>\n",
              "    </tr>\n",
              "    <tr>\n",
              "      <th>5597260</th>\n",
              "      <td>74731</td>\n",
              "      <td>car</td>\n",
              "      <td>ios</td>\n",
              "      <td>1555655508</td>\n",
              "      <td>-6.324032</td>\n",
              "      <td>106.834404</td>\n",
              "      <td>11.460000</td>\n",
              "      <td>35</td>\n",
              "      <td>10.000</td>\n",
              "    </tr>\n",
              "    <tr>\n",
              "      <th>5597261</th>\n",
              "      <td>24966</td>\n",
              "      <td>car</td>\n",
              "      <td>android</td>\n",
              "      <td>1555399498</td>\n",
              "      <td>-6.366287</td>\n",
              "      <td>106.894373</td>\n",
              "      <td>9.980000</td>\n",
              "      <td>346</td>\n",
              "      <td>3.900</td>\n",
              "    </tr>\n",
              "  </tbody>\n",
              "</table>\n",
              "<p>5597262 rows × 9 columns</p>\n",
              "</div>\n",
              "      <button class=\"colab-df-convert\" onclick=\"convertToInteractive('df-3f2f9e96-1908-4ddd-bf3b-f76377e8b519')\"\n",
              "              title=\"Convert this dataframe to an interactive table.\"\n",
              "              style=\"display:none;\">\n",
              "        \n",
              "  <svg xmlns=\"http://www.w3.org/2000/svg\" height=\"24px\"viewBox=\"0 0 24 24\"\n",
              "       width=\"24px\">\n",
              "    <path d=\"M0 0h24v24H0V0z\" fill=\"none\"/>\n",
              "    <path d=\"M18.56 5.44l.94 2.06.94-2.06 2.06-.94-2.06-.94-.94-2.06-.94 2.06-2.06.94zm-11 1L8.5 8.5l.94-2.06 2.06-.94-2.06-.94L8.5 2.5l-.94 2.06-2.06.94zm10 10l.94 2.06.94-2.06 2.06-.94-2.06-.94-.94-2.06-.94 2.06-2.06.94z\"/><path d=\"M17.41 7.96l-1.37-1.37c-.4-.4-.92-.59-1.43-.59-.52 0-1.04.2-1.43.59L10.3 9.45l-7.72 7.72c-.78.78-.78 2.05 0 2.83L4 21.41c.39.39.9.59 1.41.59.51 0 1.02-.2 1.41-.59l7.78-7.78 2.81-2.81c.8-.78.8-2.07 0-2.86zM5.41 20L4 18.59l7.72-7.72 1.47 1.35L5.41 20z\"/>\n",
              "  </svg>\n",
              "      </button>\n",
              "      \n",
              "  <style>\n",
              "    .colab-df-container {\n",
              "      display:flex;\n",
              "      flex-wrap:wrap;\n",
              "      gap: 12px;\n",
              "    }\n",
              "\n",
              "    .colab-df-convert {\n",
              "      background-color: #E8F0FE;\n",
              "      border: none;\n",
              "      border-radius: 50%;\n",
              "      cursor: pointer;\n",
              "      display: none;\n",
              "      fill: #1967D2;\n",
              "      height: 32px;\n",
              "      padding: 0 0 0 0;\n",
              "      width: 32px;\n",
              "    }\n",
              "\n",
              "    .colab-df-convert:hover {\n",
              "      background-color: #E2EBFA;\n",
              "      box-shadow: 0px 1px 2px rgba(60, 64, 67, 0.3), 0px 1px 3px 1px rgba(60, 64, 67, 0.15);\n",
              "      fill: #174EA6;\n",
              "    }\n",
              "\n",
              "    [theme=dark] .colab-df-convert {\n",
              "      background-color: #3B4455;\n",
              "      fill: #D2E3FC;\n",
              "    }\n",
              "\n",
              "    [theme=dark] .colab-df-convert:hover {\n",
              "      background-color: #434B5C;\n",
              "      box-shadow: 0px 1px 3px 1px rgba(0, 0, 0, 0.15);\n",
              "      filter: drop-shadow(0px 1px 2px rgba(0, 0, 0, 0.3));\n",
              "      fill: #FFFFFF;\n",
              "    }\n",
              "  </style>\n",
              "\n",
              "      <script>\n",
              "        const buttonEl =\n",
              "          document.querySelector('#df-3f2f9e96-1908-4ddd-bf3b-f76377e8b519 button.colab-df-convert');\n",
              "        buttonEl.style.display =\n",
              "          google.colab.kernel.accessAllowed ? 'block' : 'none';\n",
              "\n",
              "        async function convertToInteractive(key) {\n",
              "          const element = document.querySelector('#df-3f2f9e96-1908-4ddd-bf3b-f76377e8b519');\n",
              "          const dataTable =\n",
              "            await google.colab.kernel.invokeFunction('convertToInteractive',\n",
              "                                                     [key], {});\n",
              "          if (!dataTable) return;\n",
              "\n",
              "          const docLinkHtml = 'Like what you see? Visit the ' +\n",
              "            '<a target=\"_blank\" href=https://colab.research.google.com/notebooks/data_table.ipynb>data table notebook</a>'\n",
              "            + ' to learn more about interactive tables.';\n",
              "          element.innerHTML = '';\n",
              "          dataTable['output_type'] = 'display_data';\n",
              "          await google.colab.output.renderOutput(dataTable, element);\n",
              "          const docLink = document.createElement('div');\n",
              "          docLink.innerHTML = docLinkHtml;\n",
              "          element.appendChild(docLink);\n",
              "        }\n",
              "      </script>\n",
              "    </div>\n",
              "  </div>\n",
              "  "
            ],
            "text/plain": [
              "        trj_id driving_mode   osname  ...      speed  bearing  accuracy\n",
              "0         4820          car  android  ...  20.425203      194     4.000\n",
              "1        46324          car  android  ...   4.220000      101    10.720\n",
              "2        15007          car  android  ...   1.990000      108     3.149\n",
              "3         4239   motorcycle      ios  ...   1.010000      288    10.000\n",
              "4        83096   motorcycle      ios  ...  11.000000       14    10.000\n",
              "...        ...          ...      ...  ...        ...      ...       ...\n",
              "5597257  55124   motorcycle      ios  ...   6.630000      226     5.000\n",
              "5597258  65951          car  android  ...   6.750000       13    21.238\n",
              "5597259  47190          car  android  ...  20.930000      181     3.900\n",
              "5597260  74731          car      ios  ...  11.460000       35    10.000\n",
              "5597261  24966          car  android  ...   9.980000      346     3.900\n",
              "\n",
              "[5597262 rows x 9 columns]"
            ]
          },
          "metadata": {},
          "execution_count": 6
        }
      ],
      "source": [
        "df = pd.read_parquet(\"/content/city=Jakarta/part-00000-8bbff892-97d2-4011-9961-703e38972569.c000.snappy.parquet\", engine = 'pyarrow')\n",
        "df"
      ]
    },
    {
      "cell_type": "markdown",
      "metadata": {
        "id": "xgIySi7Jjr7L"
      },
      "source": [
        "Note that pingtimestamp is unix time, meaning that it is the number of seconds from 1 Jan 1970"
      ]
    },
    {
      "cell_type": "code",
      "execution_count": null,
      "metadata": {
        "colab": {
          "base_uri": "https://localhost:8080/"
        },
        "id": "wY868kbfNVPm",
        "outputId": "52241809-97e3-4cd4-c69c-b981d8c71c72"
      },
      "outputs": [
        {
          "output_type": "stream",
          "name": "stdout",
          "text": [
            "<class 'pandas.core.frame.DataFrame'>\n",
            "RangeIndex: 5597262 entries, 0 to 5597261\n",
            "Data columns (total 9 columns):\n",
            " #   Column         Dtype  \n",
            "---  ------         -----  \n",
            " 0   trj_id         object \n",
            " 1   driving_mode   object \n",
            " 2   osname         object \n",
            " 3   pingtimestamp  int64  \n",
            " 4   rawlat         float64\n",
            " 5   rawlng         float64\n",
            " 6   speed          float64\n",
            " 7   bearing        int64  \n",
            " 8   accuracy       float64\n",
            "dtypes: float64(4), int64(2), object(3)\n",
            "memory usage: 384.3+ MB\n"
          ]
        }
      ],
      "source": [
        "# show full summary of data\n",
        "df.info()"
      ]
    },
    {
      "cell_type": "code",
      "execution_count": null,
      "metadata": {
        "id": "1lqM6-drMYvb"
      },
      "outputs": [],
      "source": [
        "# functions to change dtypes\n",
        "def to_category(df, *args):\n",
        "    for col_name in args:\n",
        "        df[col_name] = df[col_name].astype(\"category\")\n",
        "    \n",
        "def to_float32(df, *args):\n",
        "    for col_name in args:\n",
        "        df[col_name] = df[col_name].astype(\"float32\")\n",
        "        \n",
        "def to_uint16(df, *args):\n",
        "    for col_name in args:\n",
        "        df[col_name] = df[col_name].astype(\"uint16\")\n",
        "  \n",
        "def to_int32(df, *args):\n",
        "    for col_name in args:\n",
        "      df[col_name] = df[col_name].astype(\"int32\")\n",
        "\n",
        "def format_datetime(df, col_name):\n",
        "    # get datetime obj for all timestamps\n",
        "    dt = df[col_name].apply(datetime.datetime.fromtimestamp)\n",
        "    \n",
        "    df[\"time\"] = dt.apply(lambda x: x.time())\n",
        "    df[\"day_of_week\"] = dt.apply(lambda x: x.weekday())\n",
        "    df[\"month\"] = dt.apply(lambda x: x.month)\n",
        "    df[\"year\"] = dt.apply(lambda x: x.year)"
      ]
    },
    {
      "cell_type": "code",
      "execution_count": null,
      "metadata": {
        "id": "SxDeJlTCOFoT"
      },
      "outputs": [],
      "source": [
        "# get a copy of the df\n",
        "df_formatted = df.copy()"
      ]
    },
    {
      "cell_type": "code",
      "execution_count": null,
      "metadata": {
        "id": "FkEvl9l3N-Uz"
      },
      "outputs": [],
      "source": [
        "# format all columns\n",
        "format_datetime(df_formatted, \"pingtimestamp\")\n",
        "to_category(df_formatted, [\"trj_id\", \"driving_mode\", \"osname\"])\n",
        "to_float32(df_formatted, [\"rawlat\", \"rawlng\", \"speed\", \"accuracy\"])\n",
        "to_uint16(df_formatted, [\"bearing\", \"day_of_week\", \"month\", \"year\"])\n",
        "to_int32(df_formatted, \"pingtimestamp\")"
      ]
    },
    {
      "cell_type": "code",
      "execution_count": null,
      "metadata": {
        "colab": {
          "base_uri": "https://localhost:8080/"
        },
        "id": "Jq8wgeElZaqB",
        "outputId": "1fa4a55e-7178-4d56-c76d-3355d29fc083"
      },
      "outputs": [
        {
          "output_type": "stream",
          "name": "stdout",
          "text": [
            "<class 'pandas.core.frame.DataFrame'>\n",
            "RangeIndex: 5597262 entries, 0 to 5597261\n",
            "Data columns (total 13 columns):\n",
            " #   Column         Dtype   \n",
            "---  ------         -----   \n",
            " 0   trj_id         category\n",
            " 1   driving_mode   category\n",
            " 2   osname         category\n",
            " 3   pingtimestamp  int32   \n",
            " 4   rawlat         float32 \n",
            " 5   rawlng         float32 \n",
            " 6   speed          float32 \n",
            " 7   bearing        uint16  \n",
            " 8   accuracy       float32 \n",
            " 9   time           object  \n",
            " 10  day_of_week    uint16  \n",
            " 11  month          uint16  \n",
            " 12  year           uint16  \n",
            "dtypes: category(3), float32(4), int32(1), object(1), uint16(4)\n",
            "memory usage: 226.6+ MB\n"
          ]
        }
      ],
      "source": [
        "# check summary of df again\n",
        "df_formatted.info()"
      ]
    },
    {
      "cell_type": "code",
      "execution_count": null,
      "metadata": {
        "colab": {
          "base_uri": "https://localhost:8080/",
          "height": 394
        },
        "id": "GB0rsvINNwEq",
        "outputId": "30f13b92-6c1a-4d1b-a574-7dcde1f6e912"
      },
      "outputs": [
        {
          "output_type": "execute_result",
          "data": {
            "text/html": [
              "\n",
              "  <div id=\"df-599c0a52-2608-4474-938b-679eab57f448\">\n",
              "    <div class=\"colab-df-container\">\n",
              "      <div>\n",
              "<style scoped>\n",
              "    .dataframe tbody tr th:only-of-type {\n",
              "        vertical-align: middle;\n",
              "    }\n",
              "\n",
              "    .dataframe tbody tr th {\n",
              "        vertical-align: top;\n",
              "    }\n",
              "\n",
              "    .dataframe thead th {\n",
              "        text-align: right;\n",
              "    }\n",
              "</style>\n",
              "<table border=\"1\" class=\"dataframe\">\n",
              "  <thead>\n",
              "    <tr style=\"text-align: right;\">\n",
              "      <th></th>\n",
              "      <th>trj_id</th>\n",
              "      <th>driving_mode</th>\n",
              "      <th>osname</th>\n",
              "      <th>pingtimestamp</th>\n",
              "      <th>rawlat</th>\n",
              "      <th>rawlng</th>\n",
              "      <th>speed</th>\n",
              "      <th>bearing</th>\n",
              "      <th>accuracy</th>\n",
              "      <th>time</th>\n",
              "      <th>day_of_week</th>\n",
              "      <th>month</th>\n",
              "      <th>year</th>\n",
              "    </tr>\n",
              "  </thead>\n",
              "  <tbody>\n",
              "    <tr>\n",
              "      <th>count</th>\n",
              "      <td>5597262</td>\n",
              "      <td>5597262</td>\n",
              "      <td>5597262</td>\n",
              "      <td>5.597262e+06</td>\n",
              "      <td>5.597262e+06</td>\n",
              "      <td>5.597262e+06</td>\n",
              "      <td>5.597262e+06</td>\n",
              "      <td>5.597262e+06</td>\n",
              "      <td>5.597262e+06</td>\n",
              "      <td>5597262</td>\n",
              "      <td>5.597262e+06</td>\n",
              "      <td>5597262.0</td>\n",
              "      <td>5597262.0</td>\n",
              "    </tr>\n",
              "    <tr>\n",
              "      <th>unique</th>\n",
              "      <td>55995</td>\n",
              "      <td>2</td>\n",
              "      <td>2</td>\n",
              "      <td>NaN</td>\n",
              "      <td>NaN</td>\n",
              "      <td>NaN</td>\n",
              "      <td>NaN</td>\n",
              "      <td>NaN</td>\n",
              "      <td>NaN</td>\n",
              "      <td>85894</td>\n",
              "      <td>NaN</td>\n",
              "      <td>NaN</td>\n",
              "      <td>NaN</td>\n",
              "    </tr>\n",
              "    <tr>\n",
              "      <th>top</th>\n",
              "      <td>16886</td>\n",
              "      <td>car</td>\n",
              "      <td>android</td>\n",
              "      <td>NaN</td>\n",
              "      <td>NaN</td>\n",
              "      <td>NaN</td>\n",
              "      <td>NaN</td>\n",
              "      <td>NaN</td>\n",
              "      <td>NaN</td>\n",
              "      <td>10:22:01</td>\n",
              "      <td>NaN</td>\n",
              "      <td>NaN</td>\n",
              "      <td>NaN</td>\n",
              "    </tr>\n",
              "    <tr>\n",
              "      <th>freq</th>\n",
              "      <td>1969</td>\n",
              "      <td>3017114</td>\n",
              "      <td>3874009</td>\n",
              "      <td>NaN</td>\n",
              "      <td>NaN</td>\n",
              "      <td>NaN</td>\n",
              "      <td>NaN</td>\n",
              "      <td>NaN</td>\n",
              "      <td>NaN</td>\n",
              "      <td>179</td>\n",
              "      <td>NaN</td>\n",
              "      <td>NaN</td>\n",
              "      <td>NaN</td>\n",
              "    </tr>\n",
              "    <tr>\n",
              "      <th>mean</th>\n",
              "      <td>NaN</td>\n",
              "      <td>NaN</td>\n",
              "      <td>NaN</td>\n",
              "      <td>1.555361e+09</td>\n",
              "      <td>-6.092810e+00</td>\n",
              "      <td>1.035026e+02</td>\n",
              "      <td>7.740098e+00</td>\n",
              "      <td>1.712885e+02</td>\n",
              "      <td>6.370943e+00</td>\n",
              "      <td>NaN</td>\n",
              "      <td>3.311260e+00</td>\n",
              "      <td>4.0</td>\n",
              "      <td>2019.0</td>\n",
              "    </tr>\n",
              "    <tr>\n",
              "      <th>std</th>\n",
              "      <td>NaN</td>\n",
              "      <td>NaN</td>\n",
              "      <td>NaN</td>\n",
              "      <td>3.634501e+05</td>\n",
              "      <td>1.948299e-01</td>\n",
              "      <td>3.370651e+00</td>\n",
              "      <td>5.149222e+00</td>\n",
              "      <td>1.086143e+02</td>\n",
              "      <td>4.693223e+00</td>\n",
              "      <td>NaN</td>\n",
              "      <td>1.961863e+00</td>\n",
              "      <td>0.0</td>\n",
              "      <td>0.0</td>\n",
              "    </tr>\n",
              "    <tr>\n",
              "      <th>min</th>\n",
              "      <td>NaN</td>\n",
              "      <td>NaN</td>\n",
              "      <td>NaN</td>\n",
              "      <td>1.554682e+09</td>\n",
              "      <td>-6.878480e+00</td>\n",
              "      <td>1.058844e+02</td>\n",
              "      <td>-1.000000e+00</td>\n",
              "      <td>0.000000e+00</td>\n",
              "      <td>1.000000e-02</td>\n",
              "      <td>NaN</td>\n",
              "      <td>0.000000e+00</td>\n",
              "      <td>4.0</td>\n",
              "      <td>2019.0</td>\n",
              "    </tr>\n",
              "    <tr>\n",
              "      <th>25%</th>\n",
              "      <td>NaN</td>\n",
              "      <td>NaN</td>\n",
              "      <td>NaN</td>\n",
              "      <td>1.555044e+09</td>\n",
              "      <td>-6.296432e+00</td>\n",
              "      <td>1.067698e+02</td>\n",
              "      <td>4.017921e+00</td>\n",
              "      <td>8.300000e+01</td>\n",
              "      <td>3.900000e+00</td>\n",
              "      <td>NaN</td>\n",
              "      <td>2.000000e+00</td>\n",
              "      <td>4.0</td>\n",
              "      <td>2019.0</td>\n",
              "    </tr>\n",
              "    <tr>\n",
              "      <th>50%</th>\n",
              "      <td>NaN</td>\n",
              "      <td>NaN</td>\n",
              "      <td>NaN</td>\n",
              "      <td>1.555412e+09</td>\n",
              "      <td>-6.235270e+00</td>\n",
              "      <td>1.068222e+02</td>\n",
              "      <td>7.304307e+00</td>\n",
              "      <td>1.740000e+02</td>\n",
              "      <td>5.000000e+00</td>\n",
              "      <td>NaN</td>\n",
              "      <td>3.000000e+00</td>\n",
              "      <td>4.0</td>\n",
              "      <td>2019.0</td>\n",
              "    </tr>\n",
              "    <tr>\n",
              "      <th>75%</th>\n",
              "      <td>NaN</td>\n",
              "      <td>NaN</td>\n",
              "      <td>NaN</td>\n",
              "      <td>1.555674e+09</td>\n",
              "      <td>-6.186346e+00</td>\n",
              "      <td>1.068779e+02</td>\n",
              "      <td>1.049000e+01</td>\n",
              "      <td>2.680000e+02</td>\n",
              "      <td>8.405000e+00</td>\n",
              "      <td>NaN</td>\n",
              "      <td>5.000000e+00</td>\n",
              "      <td>4.0</td>\n",
              "      <td>2019.0</td>\n",
              "    </tr>\n",
              "    <tr>\n",
              "      <th>max</th>\n",
              "      <td>NaN</td>\n",
              "      <td>NaN</td>\n",
              "      <td>NaN</td>\n",
              "      <td>1.555891e+09</td>\n",
              "      <td>-5.923769e+00</td>\n",
              "      <td>1.079311e+02</td>\n",
              "      <td>5.282903e+01</td>\n",
              "      <td>3.590000e+02</td>\n",
              "      <td>1.414000e+03</td>\n",
              "      <td>NaN</td>\n",
              "      <td>6.000000e+00</td>\n",
              "      <td>4.0</td>\n",
              "      <td>2019.0</td>\n",
              "    </tr>\n",
              "  </tbody>\n",
              "</table>\n",
              "</div>\n",
              "      <button class=\"colab-df-convert\" onclick=\"convertToInteractive('df-599c0a52-2608-4474-938b-679eab57f448')\"\n",
              "              title=\"Convert this dataframe to an interactive table.\"\n",
              "              style=\"display:none;\">\n",
              "        \n",
              "  <svg xmlns=\"http://www.w3.org/2000/svg\" height=\"24px\"viewBox=\"0 0 24 24\"\n",
              "       width=\"24px\">\n",
              "    <path d=\"M0 0h24v24H0V0z\" fill=\"none\"/>\n",
              "    <path d=\"M18.56 5.44l.94 2.06.94-2.06 2.06-.94-2.06-.94-.94-2.06-.94 2.06-2.06.94zm-11 1L8.5 8.5l.94-2.06 2.06-.94-2.06-.94L8.5 2.5l-.94 2.06-2.06.94zm10 10l.94 2.06.94-2.06 2.06-.94-2.06-.94-.94-2.06-.94 2.06-2.06.94z\"/><path d=\"M17.41 7.96l-1.37-1.37c-.4-.4-.92-.59-1.43-.59-.52 0-1.04.2-1.43.59L10.3 9.45l-7.72 7.72c-.78.78-.78 2.05 0 2.83L4 21.41c.39.39.9.59 1.41.59.51 0 1.02-.2 1.41-.59l7.78-7.78 2.81-2.81c.8-.78.8-2.07 0-2.86zM5.41 20L4 18.59l7.72-7.72 1.47 1.35L5.41 20z\"/>\n",
              "  </svg>\n",
              "      </button>\n",
              "      \n",
              "  <style>\n",
              "    .colab-df-container {\n",
              "      display:flex;\n",
              "      flex-wrap:wrap;\n",
              "      gap: 12px;\n",
              "    }\n",
              "\n",
              "    .colab-df-convert {\n",
              "      background-color: #E8F0FE;\n",
              "      border: none;\n",
              "      border-radius: 50%;\n",
              "      cursor: pointer;\n",
              "      display: none;\n",
              "      fill: #1967D2;\n",
              "      height: 32px;\n",
              "      padding: 0 0 0 0;\n",
              "      width: 32px;\n",
              "    }\n",
              "\n",
              "    .colab-df-convert:hover {\n",
              "      background-color: #E2EBFA;\n",
              "      box-shadow: 0px 1px 2px rgba(60, 64, 67, 0.3), 0px 1px 3px 1px rgba(60, 64, 67, 0.15);\n",
              "      fill: #174EA6;\n",
              "    }\n",
              "\n",
              "    [theme=dark] .colab-df-convert {\n",
              "      background-color: #3B4455;\n",
              "      fill: #D2E3FC;\n",
              "    }\n",
              "\n",
              "    [theme=dark] .colab-df-convert:hover {\n",
              "      background-color: #434B5C;\n",
              "      box-shadow: 0px 1px 3px 1px rgba(0, 0, 0, 0.15);\n",
              "      filter: drop-shadow(0px 1px 2px rgba(0, 0, 0, 0.3));\n",
              "      fill: #FFFFFF;\n",
              "    }\n",
              "  </style>\n",
              "\n",
              "      <script>\n",
              "        const buttonEl =\n",
              "          document.querySelector('#df-599c0a52-2608-4474-938b-679eab57f448 button.colab-df-convert');\n",
              "        buttonEl.style.display =\n",
              "          google.colab.kernel.accessAllowed ? 'block' : 'none';\n",
              "\n",
              "        async function convertToInteractive(key) {\n",
              "          const element = document.querySelector('#df-599c0a52-2608-4474-938b-679eab57f448');\n",
              "          const dataTable =\n",
              "            await google.colab.kernel.invokeFunction('convertToInteractive',\n",
              "                                                     [key], {});\n",
              "          if (!dataTable) return;\n",
              "\n",
              "          const docLinkHtml = 'Like what you see? Visit the ' +\n",
              "            '<a target=\"_blank\" href=https://colab.research.google.com/notebooks/data_table.ipynb>data table notebook</a>'\n",
              "            + ' to learn more about interactive tables.';\n",
              "          element.innerHTML = '';\n",
              "          dataTable['output_type'] = 'display_data';\n",
              "          await google.colab.output.renderOutput(dataTable, element);\n",
              "          const docLink = document.createElement('div');\n",
              "          docLink.innerHTML = docLinkHtml;\n",
              "          element.appendChild(docLink);\n",
              "        }\n",
              "      </script>\n",
              "    </div>\n",
              "  </div>\n",
              "  "
            ],
            "text/plain": [
              "         trj_id driving_mode   osname  ...   day_of_week      month       year\n",
              "count   5597262      5597262  5597262  ...  5.597262e+06  5597262.0  5597262.0\n",
              "unique    55995            2        2  ...           NaN        NaN        NaN\n",
              "top       16886          car  android  ...           NaN        NaN        NaN\n",
              "freq       1969      3017114  3874009  ...           NaN        NaN        NaN\n",
              "mean        NaN          NaN      NaN  ...  3.311260e+00        4.0     2019.0\n",
              "std         NaN          NaN      NaN  ...  1.961863e+00        0.0        0.0\n",
              "min         NaN          NaN      NaN  ...  0.000000e+00        4.0     2019.0\n",
              "25%         NaN          NaN      NaN  ...  2.000000e+00        4.0     2019.0\n",
              "50%         NaN          NaN      NaN  ...  3.000000e+00        4.0     2019.0\n",
              "75%         NaN          NaN      NaN  ...  5.000000e+00        4.0     2019.0\n",
              "max         NaN          NaN      NaN  ...  6.000000e+00        4.0     2019.0\n",
              "\n",
              "[11 rows x 13 columns]"
            ]
          },
          "metadata": {},
          "execution_count": 12
        }
      ],
      "source": [
        "df_formatted.describe(include = \"all\")"
      ]
    },
    {
      "cell_type": "code",
      "execution_count": null,
      "metadata": {
        "id": "wa9BWqf1OYud"
      },
      "outputs": [],
      "source": [
        "import folium\n",
        "from folium import plugins\n",
        "from branca.element import Figure\n",
        "\n",
        "# latitude and longitude of Singapore\n",
        "sg_lat = 1.290270\n",
        "sg_lng = 103.851959"
      ]
    },
    {
      "cell_type": "markdown",
      "metadata": {
        "id": "Tk5Wq95ZIQK1"
      },
      "source": [
        "# Exploratory data analysis\n",
        "\n"
      ]
    },
    {
      "cell_type": "markdown",
      "metadata": {
        "id": "nvHYd1_GGaoM"
      },
      "source": [
        "**Problem statement**\n",
        "\n",
        "There has been feedback about <b><font color='red'>delays</font></b> in Grab transport services in both Jakarta and Singapore (late driver arrival -> late arrival at destination). This has led to a decrease in customer satisfaction and trust, which might increase customer turnover. Upon further research, it was found that this could be due to inaccurate ETA prediction, bad route planning, or other factors. Using the above dataset of GPS pings, what insights can your team obtain to help Grab alleviate these issues? "
      ]
    },
    {
      "cell_type": "markdown",
      "metadata": {
        "id": "0BmsECxZ7o8i"
      },
      "source": [
        "---"
      ]
    },
    {
      "cell_type": "code",
      "execution_count": null,
      "metadata": {
        "id": "EjckwCmTDjh7"
      },
      "outputs": [],
      "source": [
        "import matplotlib.pyplot as plt\n",
        "import seaborn as sns"
      ]
    },
    {
      "cell_type": "code",
      "execution_count": null,
      "metadata": {
        "colab": {
          "base_uri": "https://localhost:8080/",
          "height": 424
        },
        "id": "y9QOOWMly4fd",
        "outputId": "69e4dc1c-61aa-434a-f974-5ad73aab2aa8"
      },
      "outputs": [
        {
          "output_type": "execute_result",
          "data": {
            "text/html": [
              "\n",
              "  <div id=\"df-a7714b97-a7bf-46b5-bcb1-cc743453dcdf\">\n",
              "    <div class=\"colab-df-container\">\n",
              "      <div>\n",
              "<style scoped>\n",
              "    .dataframe tbody tr th:only-of-type {\n",
              "        vertical-align: middle;\n",
              "    }\n",
              "\n",
              "    .dataframe tbody tr th {\n",
              "        vertical-align: top;\n",
              "    }\n",
              "\n",
              "    .dataframe thead th {\n",
              "        text-align: right;\n",
              "    }\n",
              "</style>\n",
              "<table border=\"1\" class=\"dataframe\">\n",
              "  <thead>\n",
              "    <tr style=\"text-align: right;\">\n",
              "      <th></th>\n",
              "      <th>trj_id</th>\n",
              "      <th>driving_mode</th>\n",
              "      <th>osname</th>\n",
              "      <th>pingtimestamp</th>\n",
              "      <th>rawlat</th>\n",
              "      <th>rawlng</th>\n",
              "      <th>speed</th>\n",
              "      <th>bearing</th>\n",
              "      <th>accuracy</th>\n",
              "      <th>time</th>\n",
              "      <th>day_of_week</th>\n",
              "      <th>month</th>\n",
              "      <th>year</th>\n",
              "    </tr>\n",
              "  </thead>\n",
              "  <tbody>\n",
              "    <tr>\n",
              "      <th>0</th>\n",
              "      <td>4820</td>\n",
              "      <td>car</td>\n",
              "      <td>android</td>\n",
              "      <td>1554806010</td>\n",
              "      <td>-6.591033</td>\n",
              "      <td>106.834465</td>\n",
              "      <td>20.425203</td>\n",
              "      <td>194</td>\n",
              "      <td>4.000000</td>\n",
              "      <td>10:33:30</td>\n",
              "      <td>1</td>\n",
              "      <td>4</td>\n",
              "      <td>2019</td>\n",
              "    </tr>\n",
              "    <tr>\n",
              "      <th>1</th>\n",
              "      <td>46324</td>\n",
              "      <td>car</td>\n",
              "      <td>android</td>\n",
              "      <td>1554873765</td>\n",
              "      <td>-6.247526</td>\n",
              "      <td>106.977661</td>\n",
              "      <td>4.220000</td>\n",
              "      <td>101</td>\n",
              "      <td>10.720000</td>\n",
              "      <td>05:22:45</td>\n",
              "      <td>2</td>\n",
              "      <td>4</td>\n",
              "      <td>2019</td>\n",
              "    </tr>\n",
              "    <tr>\n",
              "      <th>2</th>\n",
              "      <td>15007</td>\n",
              "      <td>car</td>\n",
              "      <td>android</td>\n",
              "      <td>1555642661</td>\n",
              "      <td>-6.267404</td>\n",
              "      <td>107.036018</td>\n",
              "      <td>1.990000</td>\n",
              "      <td>108</td>\n",
              "      <td>3.149000</td>\n",
              "      <td>02:57:41</td>\n",
              "      <td>4</td>\n",
              "      <td>4</td>\n",
              "      <td>2019</td>\n",
              "    </tr>\n",
              "    <tr>\n",
              "      <th>3</th>\n",
              "      <td>4239</td>\n",
              "      <td>motorcycle</td>\n",
              "      <td>ios</td>\n",
              "      <td>1554859883</td>\n",
              "      <td>-6.293343</td>\n",
              "      <td>106.820030</td>\n",
              "      <td>1.010000</td>\n",
              "      <td>288</td>\n",
              "      <td>10.000000</td>\n",
              "      <td>01:31:23</td>\n",
              "      <td>2</td>\n",
              "      <td>4</td>\n",
              "      <td>2019</td>\n",
              "    </tr>\n",
              "    <tr>\n",
              "      <th>4</th>\n",
              "      <td>83096</td>\n",
              "      <td>motorcycle</td>\n",
              "      <td>ios</td>\n",
              "      <td>1554815699</td>\n",
              "      <td>-6.146359</td>\n",
              "      <td>106.871880</td>\n",
              "      <td>11.000000</td>\n",
              "      <td>14</td>\n",
              "      <td>10.000000</td>\n",
              "      <td>13:14:59</td>\n",
              "      <td>1</td>\n",
              "      <td>4</td>\n",
              "      <td>2019</td>\n",
              "    </tr>\n",
              "    <tr>\n",
              "      <th>...</th>\n",
              "      <td>...</td>\n",
              "      <td>...</td>\n",
              "      <td>...</td>\n",
              "      <td>...</td>\n",
              "      <td>...</td>\n",
              "      <td>...</td>\n",
              "      <td>...</td>\n",
              "      <td>...</td>\n",
              "      <td>...</td>\n",
              "      <td>...</td>\n",
              "      <td>...</td>\n",
              "      <td>...</td>\n",
              "      <td>...</td>\n",
              "    </tr>\n",
              "    <tr>\n",
              "      <th>5597257</th>\n",
              "      <td>55124</td>\n",
              "      <td>motorcycle</td>\n",
              "      <td>ios</td>\n",
              "      <td>1555860173</td>\n",
              "      <td>-6.224690</td>\n",
              "      <td>106.639587</td>\n",
              "      <td>6.630000</td>\n",
              "      <td>226</td>\n",
              "      <td>5.000000</td>\n",
              "      <td>15:22:53</td>\n",
              "      <td>6</td>\n",
              "      <td>4</td>\n",
              "      <td>2019</td>\n",
              "    </tr>\n",
              "    <tr>\n",
              "      <th>5597258</th>\n",
              "      <td>65951</td>\n",
              "      <td>car</td>\n",
              "      <td>android</td>\n",
              "      <td>1555732048</td>\n",
              "      <td>-6.141392</td>\n",
              "      <td>106.820091</td>\n",
              "      <td>6.750000</td>\n",
              "      <td>13</td>\n",
              "      <td>21.238001</td>\n",
              "      <td>03:47:28</td>\n",
              "      <td>5</td>\n",
              "      <td>4</td>\n",
              "      <td>2019</td>\n",
              "    </tr>\n",
              "    <tr>\n",
              "      <th>5597259</th>\n",
              "      <td>47190</td>\n",
              "      <td>car</td>\n",
              "      <td>android</td>\n",
              "      <td>1555832320</td>\n",
              "      <td>-6.188814</td>\n",
              "      <td>106.875435</td>\n",
              "      <td>20.930000</td>\n",
              "      <td>181</td>\n",
              "      <td>3.900000</td>\n",
              "      <td>07:38:40</td>\n",
              "      <td>6</td>\n",
              "      <td>4</td>\n",
              "      <td>2019</td>\n",
              "    </tr>\n",
              "    <tr>\n",
              "      <th>5597260</th>\n",
              "      <td>74731</td>\n",
              "      <td>car</td>\n",
              "      <td>ios</td>\n",
              "      <td>1555655508</td>\n",
              "      <td>-6.324032</td>\n",
              "      <td>106.834404</td>\n",
              "      <td>11.460000</td>\n",
              "      <td>35</td>\n",
              "      <td>10.000000</td>\n",
              "      <td>06:31:48</td>\n",
              "      <td>4</td>\n",
              "      <td>4</td>\n",
              "      <td>2019</td>\n",
              "    </tr>\n",
              "    <tr>\n",
              "      <th>5597261</th>\n",
              "      <td>24966</td>\n",
              "      <td>car</td>\n",
              "      <td>android</td>\n",
              "      <td>1555399498</td>\n",
              "      <td>-6.366287</td>\n",
              "      <td>106.894371</td>\n",
              "      <td>9.980000</td>\n",
              "      <td>346</td>\n",
              "      <td>3.900000</td>\n",
              "      <td>07:24:58</td>\n",
              "      <td>1</td>\n",
              "      <td>4</td>\n",
              "      <td>2019</td>\n",
              "    </tr>\n",
              "  </tbody>\n",
              "</table>\n",
              "<p>5597262 rows × 13 columns</p>\n",
              "</div>\n",
              "      <button class=\"colab-df-convert\" onclick=\"convertToInteractive('df-a7714b97-a7bf-46b5-bcb1-cc743453dcdf')\"\n",
              "              title=\"Convert this dataframe to an interactive table.\"\n",
              "              style=\"display:none;\">\n",
              "        \n",
              "  <svg xmlns=\"http://www.w3.org/2000/svg\" height=\"24px\"viewBox=\"0 0 24 24\"\n",
              "       width=\"24px\">\n",
              "    <path d=\"M0 0h24v24H0V0z\" fill=\"none\"/>\n",
              "    <path d=\"M18.56 5.44l.94 2.06.94-2.06 2.06-.94-2.06-.94-.94-2.06-.94 2.06-2.06.94zm-11 1L8.5 8.5l.94-2.06 2.06-.94-2.06-.94L8.5 2.5l-.94 2.06-2.06.94zm10 10l.94 2.06.94-2.06 2.06-.94-2.06-.94-.94-2.06-.94 2.06-2.06.94z\"/><path d=\"M17.41 7.96l-1.37-1.37c-.4-.4-.92-.59-1.43-.59-.52 0-1.04.2-1.43.59L10.3 9.45l-7.72 7.72c-.78.78-.78 2.05 0 2.83L4 21.41c.39.39.9.59 1.41.59.51 0 1.02-.2 1.41-.59l7.78-7.78 2.81-2.81c.8-.78.8-2.07 0-2.86zM5.41 20L4 18.59l7.72-7.72 1.47 1.35L5.41 20z\"/>\n",
              "  </svg>\n",
              "      </button>\n",
              "      \n",
              "  <style>\n",
              "    .colab-df-container {\n",
              "      display:flex;\n",
              "      flex-wrap:wrap;\n",
              "      gap: 12px;\n",
              "    }\n",
              "\n",
              "    .colab-df-convert {\n",
              "      background-color: #E8F0FE;\n",
              "      border: none;\n",
              "      border-radius: 50%;\n",
              "      cursor: pointer;\n",
              "      display: none;\n",
              "      fill: #1967D2;\n",
              "      height: 32px;\n",
              "      padding: 0 0 0 0;\n",
              "      width: 32px;\n",
              "    }\n",
              "\n",
              "    .colab-df-convert:hover {\n",
              "      background-color: #E2EBFA;\n",
              "      box-shadow: 0px 1px 2px rgba(60, 64, 67, 0.3), 0px 1px 3px 1px rgba(60, 64, 67, 0.15);\n",
              "      fill: #174EA6;\n",
              "    }\n",
              "\n",
              "    [theme=dark] .colab-df-convert {\n",
              "      background-color: #3B4455;\n",
              "      fill: #D2E3FC;\n",
              "    }\n",
              "\n",
              "    [theme=dark] .colab-df-convert:hover {\n",
              "      background-color: #434B5C;\n",
              "      box-shadow: 0px 1px 3px 1px rgba(0, 0, 0, 0.15);\n",
              "      filter: drop-shadow(0px 1px 2px rgba(0, 0, 0, 0.3));\n",
              "      fill: #FFFFFF;\n",
              "    }\n",
              "  </style>\n",
              "\n",
              "      <script>\n",
              "        const buttonEl =\n",
              "          document.querySelector('#df-a7714b97-a7bf-46b5-bcb1-cc743453dcdf button.colab-df-convert');\n",
              "        buttonEl.style.display =\n",
              "          google.colab.kernel.accessAllowed ? 'block' : 'none';\n",
              "\n",
              "        async function convertToInteractive(key) {\n",
              "          const element = document.querySelector('#df-a7714b97-a7bf-46b5-bcb1-cc743453dcdf');\n",
              "          const dataTable =\n",
              "            await google.colab.kernel.invokeFunction('convertToInteractive',\n",
              "                                                     [key], {});\n",
              "          if (!dataTable) return;\n",
              "\n",
              "          const docLinkHtml = 'Like what you see? Visit the ' +\n",
              "            '<a target=\"_blank\" href=https://colab.research.google.com/notebooks/data_table.ipynb>data table notebook</a>'\n",
              "            + ' to learn more about interactive tables.';\n",
              "          element.innerHTML = '';\n",
              "          dataTable['output_type'] = 'display_data';\n",
              "          await google.colab.output.renderOutput(dataTable, element);\n",
              "          const docLink = document.createElement('div');\n",
              "          docLink.innerHTML = docLinkHtml;\n",
              "          element.appendChild(docLink);\n",
              "        }\n",
              "      </script>\n",
              "    </div>\n",
              "  </div>\n",
              "  "
            ],
            "text/plain": [
              "        trj_id driving_mode   osname  ...  day_of_week  month  year\n",
              "0         4820          car  android  ...            1      4  2019\n",
              "1        46324          car  android  ...            2      4  2019\n",
              "2        15007          car  android  ...            4      4  2019\n",
              "3         4239   motorcycle      ios  ...            2      4  2019\n",
              "4        83096   motorcycle      ios  ...            1      4  2019\n",
              "...        ...          ...      ...  ...          ...    ...   ...\n",
              "5597257  55124   motorcycle      ios  ...            6      4  2019\n",
              "5597258  65951          car  android  ...            5      4  2019\n",
              "5597259  47190          car  android  ...            6      4  2019\n",
              "5597260  74731          car      ios  ...            4      4  2019\n",
              "5597261  24966          car  android  ...            1      4  2019\n",
              "\n",
              "[5597262 rows x 13 columns]"
            ]
          },
          "metadata": {},
          "execution_count": 14
        }
      ],
      "source": [
        "df_formatted"
      ]
    },
    {
      "cell_type": "code",
      "execution_count": null,
      "metadata": {
        "colab": {
          "base_uri": "https://localhost:8080/"
        },
        "id": "vG5fR8Y-nR4n",
        "outputId": "e866ccc0-a01a-493c-e243-1224ae2a9d64"
      },
      "outputs": [
        {
          "output_type": "execute_result",
          "data": {
            "text/plain": [
              "55995"
            ]
          },
          "metadata": {},
          "execution_count": 15
        }
      ],
      "source": [
        "df_formatted['trj_id'].nunique()"
      ]
    },
    {
      "cell_type": "code",
      "execution_count": null,
      "metadata": {
        "colab": {
          "base_uri": "https://localhost:8080/"
        },
        "id": "30WheDHPb_Gb",
        "outputId": "0a9dbeef-7471-4f14-9a75-afa1dd0703ac"
      },
      "outputs": [
        {
          "output_type": "execute_result",
          "data": {
            "text/plain": [
              "16886    1969\n",
              "10484    1469\n",
              "40947    1202\n",
              "39208    1119\n",
              "30585    1043\n",
              "         ... \n",
              "51164       5\n",
              "14703       4\n",
              "51187       1\n",
              "82062       1\n",
              "43760       1\n",
              "Name: trj_id, Length: 55995, dtype: int64"
            ]
          },
          "metadata": {},
          "execution_count": 16
        }
      ],
      "source": [
        "df_formatted['trj_id'].value_counts()"
      ]
    },
    {
      "cell_type": "markdown",
      "metadata": {
        "id": "uL_YUrREnR4s"
      },
      "source": [
        "Distribution of os\n",
        "\n",
        "Different os might have different accuracy/bugs"
      ]
    },
    {
      "cell_type": "code",
      "execution_count": null,
      "metadata": {
        "colab": {
          "base_uri": "https://localhost:8080/",
          "height": 296
        },
        "id": "cV1vikjLnXza",
        "outputId": "62078291-ab36-4b08-90ad-e6affe30021a"
      },
      "outputs": [
        {
          "output_type": "execute_result",
          "data": {
            "text/plain": [
              "<matplotlib.axes._subplots.AxesSubplot at 0x7f2527ed9ad0>"
            ]
          },
          "metadata": {},
          "execution_count": 19
        },
        {
          "output_type": "display_data",
          "data": {
            "image/png": "[encoded data removed]",
            "text/plain": [
              "<Figure size 432x288 with 1 Axes>"
            ]
          },
          "metadata": {
            "needs_background": "light"
          }
        }
      ],
      "source": [
        "sns.boxplot(data = df_formatted, x = 'osname', y = 'speed', showfliers = False)"
      ]
    },
    {
      "cell_type": "code",
      "source": [
        "sns.boxplot(data = df_formatted, x = 'driving_mode', y = 'accuracy', showfliers = False)"
      ],
      "metadata": {
        "colab": {
          "base_uri": "https://localhost:8080/",
          "height": 300
        },
        "id": "CNeAbVwXdzQL",
        "outputId": "2c819b4d-bbab-49d1-9f19-c4756a03aa3a"
      },
      "execution_count": null,
      "outputs": [
        {
          "output_type": "execute_result",
          "data": {
            "text/plain": [
              "<matplotlib.axes._subplots.AxesSubplot at 0x7f2526f34550>"
            ]
          },
          "metadata": {},
          "execution_count": 25
        },
        {
          "output_type": "display_data",
          "data": {
            "image/png": "[encoded data removed]",
            "text/plain": [
              "<Figure size 432x288 with 1 Axes>"
            ]
          },
          "metadata": {
            "needs_background": "light"
          }
        }
      ]
    },
    {
      "cell_type": "code",
      "source": [
        "plt.scatter(data = df_formatted, x = 'accuracy', y = 'speed')"
      ],
      "metadata": {
        "colab": {
          "base_uri": "https://localhost:8080/",
          "height": 282
        },
        "id": "rSHEt-sYhlGO",
        "outputId": "483983c4-67de-4071-e748-5e4c73c800c9"
      },
      "execution_count": null,
      "outputs": [
        {
          "output_type": "execute_result",
          "data": {
            "text/plain": [
              "<matplotlib.collections.PathCollection at 0x7f25247b9ed0>"
            ]
          },
          "metadata": {},
          "execution_count": 37
        },
        {
          "output_type": "display_data",
          "data": {
            "image/png": "[encoded data removed]",
            "text/plain": [
              "<Figure size 432x288 with 1 Axes>"
            ]
          },
          "metadata": {
            "needs_background": "light"
          }
        }
      ]
    },
    {
      "cell_type": "code",
      "source": [
        "plt.scatter(data = df_formatted, x = 'driving_mode', y = 'accuracy')"
      ],
      "metadata": {
        "colab": {
          "base_uri": "https://localhost:8080/",
          "height": 282
        },
        "id": "jvZHaekHeONz",
        "outputId": "7cf2145f-91b5-4d82-c4d1-462f4d4e3179"
      },
      "execution_count": null,
      "outputs": [
        {
          "output_type": "execute_result",
          "data": {
            "text/plain": [
              "<matplotlib.collections.PathCollection at 0x7f25251c5950>"
            ]
          },
          "metadata": {},
          "execution_count": 28
        },
        {
          "output_type": "display_data",
          "data": {
            "image/png": "[encoded data removed]",
            "text/plain": [
              "<Figure size 432x288 with 1 Axes>"
            ]
          },
          "metadata": {
            "needs_background": "light"
          }
        }
      ]
    },
    {
      "cell_type": "code",
      "source": [
        "plt.scatter(data = df_formatted, x = 'osname', y = 'accuracy')"
      ],
      "metadata": {
        "colab": {
          "base_uri": "https://localhost:8080/",
          "height": 282
        },
        "id": "B4ucZberU1Wd",
        "outputId": "b769598c-10be-45f9-ed39-adefe591d853"
      },
      "execution_count": null,
      "outputs": [
        {
          "output_type": "execute_result",
          "data": {
            "text/plain": [
              "<matplotlib.collections.PathCollection at 0x7f252701d9d0>"
            ]
          },
          "metadata": {},
          "execution_count": 22
        },
        {
          "output_type": "display_data",
          "data": {
            "image/png": "[encoded data removed]",
            "text/plain": [
              "<Figure size 432x288 with 1 Axes>"
            ]
          },
          "metadata": {
            "needs_background": "light"
          }
        }
      ]
    },
    {
      "cell_type": "markdown",
      "source": [
        "ios results in higher inaccuracies of the tracking, resulting in higher delays."
      ],
      "metadata": {
        "id": "CsEYMg6xVb_M"
      }
    },
    {
      "cell_type": "code",
      "source": [
        "plt.scatter( df_formatted['driving_mode'], df_formatted['speed'] )"
      ],
      "metadata": {
        "colab": {
          "base_uri": "https://localhost:8080/",
          "height": 282
        },
        "id": "WAW3Y_3fgmVI",
        "outputId": "01d293a6-fc01-41c4-b930-781cf7d9c178"
      },
      "execution_count": null,
      "outputs": [
        {
          "output_type": "execute_result",
          "data": {
            "text/plain": [
              "<matplotlib.collections.PathCollection at 0x7f2524857510>"
            ]
          },
          "metadata": {},
          "execution_count": 35
        },
        {
          "output_type": "display_data",
          "data": {
            "image/png": "[encoded data removed]",
            "text/plain": [
              "<Figure size 432x288 with 1 Axes>"
            ]
          },
          "metadata": {
            "needs_background": "light"
          }
        }
      ]
    },
    {
      "cell_type": "code",
      "source": [
        "plt.scatter( df_formatted['day_of_week'], df_formatted['accuracy'] )"
      ],
      "metadata": {
        "colab": {
          "base_uri": "https://localhost:8080/",
          "height": 282
        },
        "id": "esQh6VaRVp3m",
        "outputId": "1e4d6446-7882-41b5-af01-7fec9705d1b8"
      },
      "execution_count": null,
      "outputs": [
        {
          "output_type": "execute_result",
          "data": {
            "text/plain": [
              "<matplotlib.collections.PathCollection at 0x7f2526f827d0>"
            ]
          },
          "metadata": {},
          "execution_count": 23
        },
        {
          "output_type": "display_data",
          "data": {
            "image/png": "[encoded data removed]",
            "text/plain": [
              "<Figure size 432x288 with 1 Axes>"
            ]
          },
          "metadata": {
            "needs_background": "light"
          }
        }
      ]
    },
    {
      "cell_type": "markdown",
      "source": [
        "sunday has lowest level of inaccuracies due to low level of traffic"
      ],
      "metadata": {
        "id": "1taPnw8vWv39"
      }
    },
    {
      "cell_type": "code",
      "execution_count": null,
      "metadata": {
        "colab": {
          "base_uri": "https://localhost:8080/",
          "height": 299
        },
        "id": "XdYH5G4EnR4t",
        "outputId": "1f349a7f-be42-439e-9537-d4cdc482efb2"
      },
      "outputs": [
        {
          "output_type": "execute_result",
          "data": {
            "text/plain": [
              "<matplotlib.axes._subplots.AxesSubplot at 0x7f2525173190>"
            ]
          },
          "metadata": {},
          "execution_count": 29
        },
        {
          "output_type": "display_data",
          "data": {
            "image/png": "[encoded data removed]",
            "text/plain": [
              "<Figure size 432x288 with 1 Axes>"
            ]
          },
          "metadata": {
            "needs_background": "light"
          }
        }
      ],
      "source": [
        "hours = df_formatted['time'].apply(lambda x: x.hour)\n",
        "sns.countplot(x = hours, color = 'grey')"
      ]
    },
    {
      "cell_type": "code",
      "execution_count": null,
      "metadata": {
        "colab": {
          "base_uri": "https://localhost:8080/"
        },
        "id": "2Vq52LIAPEps",
        "outputId": "7d69e284-266b-46fc-db9a-0e1e6571ffe7"
      },
      "outputs": [
        {
          "data": {
            "text/plain": [
              "0          00:40:36\n",
              "1          10:17:03\n",
              "2          07:37:06\n",
              "3          03:41:33\n",
              "4          10:48:17\n",
              "             ...   \n",
              "3034548    08:27:17\n",
              "3034549    13:25:52\n",
              "3034550    00:15:14\n",
              "3034551    14:58:11\n",
              "3034552    23:28:51\n",
              "Name: time, Length: 3034553, dtype: object"
            ]
          },
          "execution_count": 26,
          "metadata": {},
          "output_type": "execute_result"
        }
      ],
      "source": [
        "df_formatted['time']"
      ]
    },
    {
      "cell_type": "code",
      "execution_count": null,
      "metadata": {
        "id": "yIhM1DysPqpC",
        "colab": {
          "base_uri": "https://localhost:8080/",
          "height": 282
        },
        "outputId": "74fd1bab-7bd5-4c70-aad3-d1eb2d379ab8"
      },
      "outputs": [
        {
          "output_type": "execute_result",
          "data": {
            "text/plain": [
              "<matplotlib.collections.PathCollection at 0x7f2525085dd0>"
            ]
          },
          "metadata": {},
          "execution_count": 30
        },
        {
          "output_type": "display_data",
          "data": {
            "image/png": "[encoded data removed]",
            "text/plain": [
              "<Figure size 432x288 with 1 Axes>"
            ]
          },
          "metadata": {
            "needs_background": "light"
          }
        }
      ],
      "source": [
        "plt.scatter(hours, df_formatted['accuracy'])"
      ]
    },
    {
      "cell_type": "markdown",
      "source": [
        "at noon time (7am - 3pm), there is higher inaccuracy observed "
      ],
      "metadata": {
        "id": "nRjzhaazTz2K"
      }
    },
    {
      "cell_type": "code",
      "execution_count": null,
      "metadata": {
        "colab": {
          "base_uri": "https://localhost:8080/",
          "height": 296
        },
        "id": "4JT5HzI_dVHd",
        "outputId": "e12a8ceb-2d9b-47b4-964b-42a5b52a6fd1"
      },
      "outputs": [
        {
          "output_type": "execute_result",
          "data": {
            "text/plain": [
              "<matplotlib.axes._subplots.AxesSubplot at 0x7f25249dbe90>"
            ]
          },
          "metadata": {},
          "execution_count": 32
        },
        {
          "output_type": "display_data",
          "data": {
            "image/png": "[encoded data removed]",
            "text/plain": [
              "<Figure size 432x288 with 1 Axes>"
            ]
          },
          "metadata": {
            "needs_background": "light"
          }
        }
      ],
      "source": [
        "initial_pings = df_formatted.groupby('trj_id')['time'].min()\n",
        "initial_pings_hours = initial_pings.apply(lambda x: x.hour)\n",
        "sns.countplot(x = initial_pings_hours, color = 'salmon')"
      ]
    },
    {
      "cell_type": "code",
      "execution_count": null,
      "metadata": {
        "id": "M2lzBjoonR4t",
        "colab": {
          "base_uri": "https://localhost:8080/",
          "height": 166
        },
        "outputId": "9c2e819e-db85-4c57-dca9-609a128427d7"
      },
      "outputs": [
        {
          "output_type": "error",
          "ename": "NameError",
          "evalue": "ignored",
          "traceback": [
            "\u001b[0;31m---------------------------------------------------------------------------\u001b[0m",
            "\u001b[0;31mNameError\u001b[0m                                 Traceback (most recent call last)",
            "\u001b[0;32m<ipython-input-1-29b88e94f9a8>\u001b[0m in \u001b[0;36m<module>\u001b[0;34m()\u001b[0m\n\u001b[0;32m----> 1\u001b[0;31m \u001b[0mpeak_period\u001b[0m \u001b[0;34m=\u001b[0m \u001b[0mdf_formatted\u001b[0m\u001b[0;34m[\u001b[0m\u001b[0;34m(\u001b[0m\u001b[0mhours\u001b[0m \u001b[0;34m==\u001b[0m \u001b[0;36m9\u001b[0m\u001b[0;34m)\u001b[0m \u001b[0;34m|\u001b[0m \u001b[0;34m(\u001b[0m\u001b[0mhours\u001b[0m \u001b[0;34m==\u001b[0m \u001b[0;36m10\u001b[0m\u001b[0;34m)\u001b[0m \u001b[0;34m|\u001b[0m \u001b[0;34m(\u001b[0m\u001b[0mhours\u001b[0m \u001b[0;34m==\u001b[0m \u001b[0;36m11\u001b[0m\u001b[0;34m)\u001b[0m \u001b[0;34m]\u001b[0m\u001b[0;34m\u001b[0m\u001b[0;34m\u001b[0m\u001b[0m\n\u001b[0m",
            "\u001b[0;31mNameError\u001b[0m: name 'df_formatted' is not defined"
          ]
        }
      ],
      "source": [
        "peak_period = df_formatted[(hours == 9) | (hours == 10) | (hours == 11) ]"
      ]
    },
    {
      "cell_type": "code",
      "execution_count": null,
      "metadata": {
        "id": "43p2OfbSnR4t"
      },
      "outputs": [],
      "source": [
        "pings = peak_period[['rawlat', 'rawlng']].to_numpy()"
      ]
    },
    {
      "cell_type": "code",
      "execution_count": null,
      "metadata": {
        "colab": {
          "base_uri": "https://localhost:8080/"
        },
        "id": "oIxasY_PeC51",
        "outputId": "c2e202b0-42e3-4b99-9065-172b32e1b655"
      },
      "outputs": [
        {
          "data": {
            "text/plain": [
              "array([[  1.3217812, 103.85637  ],\n",
              "       [  1.283799 , 103.80721  ],\n",
              "       [  1.3259093, 103.83332  ],\n",
              "       ...,\n",
              "       [  1.395916 , 103.84025  ],\n",
              "       [  1.4008759, 103.81266  ],\n",
              "       [  1.3269511, 103.7253   ]], dtype=float32)"
            ]
          },
          "execution_count": 29,
          "metadata": {},
          "output_type": "execute_result"
        }
      ],
      "source": [
        "pings"
      ]
    },
    {
      "cell_type": "code",
      "execution_count": null,
      "metadata": {
        "id": "aQISrh4tnR4u"
      },
      "outputs": [],
      "source": [
        "# get mean speed of each trajectory\n",
        "mean_speed = peak_period.groupby('trj_id')['speed'].agg(mean_speed = ('mean'))\n",
        "\n",
        "\n",
        "# extract trajectories with valid mean speed\n",
        "mean_speed = mean_speed[mean_speed['mean_speed'].notnull()]\n",
        "\n",
        "# sort by mean_speed\n",
        "mean_speed.sort_values('mean_speed', inplace = True)\n",
        "\n",
        "# retrieve slowest 3 trajectories \n",
        "slowest_trajectories = mean_speed.nsmallest(3, columns = 'mean_speed').index"
      ]
    },
    {
      "cell_type": "code",
      "source": [
        "\n"
      ],
      "metadata": {
        "colab": {
          "base_uri": "https://localhost:8080/",
          "height": 424
        },
        "id": "rtAoK5EAXeB5",
        "outputId": "e26642b0-b6cb-4e20-98af-ef7e5d392ba1"
      },
      "execution_count": null,
      "outputs": [
        {
          "output_type": "execute_result",
          "data": {
            "text/html": [
              "\n",
              "  <div id=\"df-2e7a623d-d57a-415f-915d-45b348734e9f\">\n",
              "    <div class=\"colab-df-container\">\n",
              "      <div>\n",
              "<style scoped>\n",
              "    .dataframe tbody tr th:only-of-type {\n",
              "        vertical-align: middle;\n",
              "    }\n",
              "\n",
              "    .dataframe tbody tr th {\n",
              "        vertical-align: top;\n",
              "    }\n",
              "\n",
              "    .dataframe thead th {\n",
              "        text-align: right;\n",
              "    }\n",
              "</style>\n",
              "<table border=\"1\" class=\"dataframe\">\n",
              "  <thead>\n",
              "    <tr style=\"text-align: right;\">\n",
              "      <th></th>\n",
              "      <th>trj_id</th>\n",
              "      <th>driving_mode</th>\n",
              "      <th>osname</th>\n",
              "      <th>pingtimestamp</th>\n",
              "      <th>rawlat</th>\n",
              "      <th>rawlng</th>\n",
              "      <th>speed</th>\n",
              "      <th>bearing</th>\n",
              "      <th>accuracy</th>\n",
              "      <th>time</th>\n",
              "      <th>day_of_week</th>\n",
              "      <th>month</th>\n",
              "      <th>year</th>\n",
              "    </tr>\n",
              "  </thead>\n",
              "  <tbody>\n",
              "    <tr>\n",
              "      <th>1</th>\n",
              "      <td>73573</td>\n",
              "      <td>car</td>\n",
              "      <td>android</td>\n",
              "      <td>1555582623</td>\n",
              "      <td>1.321781</td>\n",
              "      <td>103.856369</td>\n",
              "      <td>17.719076</td>\n",
              "      <td>44</td>\n",
              "      <td>4.000</td>\n",
              "      <td>10:17:03</td>\n",
              "      <td>3</td>\n",
              "      <td>4</td>\n",
              "      <td>2019</td>\n",
              "    </tr>\n",
              "    <tr>\n",
              "      <th>4</th>\n",
              "      <td>4354</td>\n",
              "      <td>car</td>\n",
              "      <td>android</td>\n",
              "      <td>1555584497</td>\n",
              "      <td>1.283799</td>\n",
              "      <td>103.807213</td>\n",
              "      <td>14.812943</td>\n",
              "      <td>93</td>\n",
              "      <td>3.900</td>\n",
              "      <td>10:48:17</td>\n",
              "      <td>3</td>\n",
              "      <td>4</td>\n",
              "      <td>2019</td>\n",
              "    </tr>\n",
              "    <tr>\n",
              "      <th>12</th>\n",
              "      <td>26248</td>\n",
              "      <td>car</td>\n",
              "      <td>android</td>\n",
              "      <td>1555670340</td>\n",
              "      <td>1.325909</td>\n",
              "      <td>103.833321</td>\n",
              "      <td>23.017273</td>\n",
              "      <td>252</td>\n",
              "      <td>4.000</td>\n",
              "      <td>10:39:00</td>\n",
              "      <td>4</td>\n",
              "      <td>4</td>\n",
              "      <td>2019</td>\n",
              "    </tr>\n",
              "    <tr>\n",
              "      <th>26</th>\n",
              "      <td>4354</td>\n",
              "      <td>car</td>\n",
              "      <td>android</td>\n",
              "      <td>1555583040</td>\n",
              "      <td>1.321920</td>\n",
              "      <td>103.711075</td>\n",
              "      <td>14.049746</td>\n",
              "      <td>86</td>\n",
              "      <td>4.000</td>\n",
              "      <td>10:24:00</td>\n",
              "      <td>3</td>\n",
              "      <td>4</td>\n",
              "      <td>2019</td>\n",
              "    </tr>\n",
              "    <tr>\n",
              "      <th>36</th>\n",
              "      <td>82760</td>\n",
              "      <td>car</td>\n",
              "      <td>android</td>\n",
              "      <td>1555580996</td>\n",
              "      <td>1.355439</td>\n",
              "      <td>103.698677</td>\n",
              "      <td>2.818491</td>\n",
              "      <td>217</td>\n",
              "      <td>4.943</td>\n",
              "      <td>09:49:56</td>\n",
              "      <td>3</td>\n",
              "      <td>4</td>\n",
              "      <td>2019</td>\n",
              "    </tr>\n",
              "    <tr>\n",
              "      <th>...</th>\n",
              "      <td>...</td>\n",
              "      <td>...</td>\n",
              "      <td>...</td>\n",
              "      <td>...</td>\n",
              "      <td>...</td>\n",
              "      <td>...</td>\n",
              "      <td>...</td>\n",
              "      <td>...</td>\n",
              "      <td>...</td>\n",
              "      <td>...</td>\n",
              "      <td>...</td>\n",
              "      <td>...</td>\n",
              "      <td>...</td>\n",
              "    </tr>\n",
              "    <tr>\n",
              "      <th>3034497</th>\n",
              "      <td>50488</td>\n",
              "      <td>car</td>\n",
              "      <td>ios</td>\n",
              "      <td>1555585026</td>\n",
              "      <td>1.328228</td>\n",
              "      <td>103.824409</td>\n",
              "      <td>13.430000</td>\n",
              "      <td>294</td>\n",
              "      <td>10.000</td>\n",
              "      <td>10:57:06</td>\n",
              "      <td>3</td>\n",
              "      <td>4</td>\n",
              "      <td>2019</td>\n",
              "    </tr>\n",
              "    <tr>\n",
              "      <th>3034503</th>\n",
              "      <td>77411</td>\n",
              "      <td>car</td>\n",
              "      <td>android</td>\n",
              "      <td>1555581748</td>\n",
              "      <td>1.359146</td>\n",
              "      <td>103.903160</td>\n",
              "      <td>20.023916</td>\n",
              "      <td>209</td>\n",
              "      <td>6.000</td>\n",
              "      <td>10:02:28</td>\n",
              "      <td>3</td>\n",
              "      <td>4</td>\n",
              "      <td>2019</td>\n",
              "    </tr>\n",
              "    <tr>\n",
              "      <th>3034508</th>\n",
              "      <td>62555</td>\n",
              "      <td>car</td>\n",
              "      <td>ios</td>\n",
              "      <td>1555064301</td>\n",
              "      <td>1.395916</td>\n",
              "      <td>103.840248</td>\n",
              "      <td>19.850000</td>\n",
              "      <td>239</td>\n",
              "      <td>10.000</td>\n",
              "      <td>10:18:21</td>\n",
              "      <td>4</td>\n",
              "      <td>4</td>\n",
              "      <td>2019</td>\n",
              "    </tr>\n",
              "    <tr>\n",
              "      <th>3034514</th>\n",
              "      <td>62555</td>\n",
              "      <td>car</td>\n",
              "      <td>ios</td>\n",
              "      <td>1555064719</td>\n",
              "      <td>1.400876</td>\n",
              "      <td>103.812660</td>\n",
              "      <td>11.290000</td>\n",
              "      <td>320</td>\n",
              "      <td>10.000</td>\n",
              "      <td>10:25:19</td>\n",
              "      <td>4</td>\n",
              "      <td>4</td>\n",
              "      <td>2019</td>\n",
              "    </tr>\n",
              "    <tr>\n",
              "      <th>3034515</th>\n",
              "      <td>75896</td>\n",
              "      <td>car</td>\n",
              "      <td>android</td>\n",
              "      <td>1555839104</td>\n",
              "      <td>1.326951</td>\n",
              "      <td>103.725304</td>\n",
              "      <td>4.045688</td>\n",
              "      <td>158</td>\n",
              "      <td>4.000</td>\n",
              "      <td>09:31:44</td>\n",
              "      <td>6</td>\n",
              "      <td>4</td>\n",
              "      <td>2019</td>\n",
              "    </tr>\n",
              "  </tbody>\n",
              "</table>\n",
              "<p>648417 rows × 13 columns</p>\n",
              "</div>\n",
              "      <button class=\"colab-df-convert\" onclick=\"convertToInteractive('df-2e7a623d-d57a-415f-915d-45b348734e9f')\"\n",
              "              title=\"Convert this dataframe to an interactive table.\"\n",
              "              style=\"display:none;\">\n",
              "        \n",
              "  <svg xmlns=\"http://www.w3.org/2000/svg\" height=\"24px\"viewBox=\"0 0 24 24\"\n",
              "       width=\"24px\">\n",
              "    <path d=\"M0 0h24v24H0V0z\" fill=\"none\"/>\n",
              "    <path d=\"M18.56 5.44l.94 2.06.94-2.06 2.06-.94-2.06-.94-.94-2.06-.94 2.06-2.06.94zm-11 1L8.5 8.5l.94-2.06 2.06-.94-2.06-.94L8.5 2.5l-.94 2.06-2.06.94zm10 10l.94 2.06.94-2.06 2.06-.94-2.06-.94-.94-2.06-.94 2.06-2.06.94z\"/><path d=\"M17.41 7.96l-1.37-1.37c-.4-.4-.92-.59-1.43-.59-.52 0-1.04.2-1.43.59L10.3 9.45l-7.72 7.72c-.78.78-.78 2.05 0 2.83L4 21.41c.39.39.9.59 1.41.59.51 0 1.02-.2 1.41-.59l7.78-7.78 2.81-2.81c.8-.78.8-2.07 0-2.86zM5.41 20L4 18.59l7.72-7.72 1.47 1.35L5.41 20z\"/>\n",
              "  </svg>\n",
              "      </button>\n",
              "      \n",
              "  <style>\n",
              "    .colab-df-container {\n",
              "      display:flex;\n",
              "      flex-wrap:wrap;\n",
              "      gap: 12px;\n",
              "    }\n",
              "\n",
              "    .colab-df-convert {\n",
              "      background-color: #E8F0FE;\n",
              "      border: none;\n",
              "      border-radius: 50%;\n",
              "      cursor: pointer;\n",
              "      display: none;\n",
              "      fill: #1967D2;\n",
              "      height: 32px;\n",
              "      padding: 0 0 0 0;\n",
              "      width: 32px;\n",
              "    }\n",
              "\n",
              "    .colab-df-convert:hover {\n",
              "      background-color: #E2EBFA;\n",
              "      box-shadow: 0px 1px 2px rgba(60, 64, 67, 0.3), 0px 1px 3px 1px rgba(60, 64, 67, 0.15);\n",
              "      fill: #174EA6;\n",
              "    }\n",
              "\n",
              "    [theme=dark] .colab-df-convert {\n",
              "      background-color: #3B4455;\n",
              "      fill: #D2E3FC;\n",
              "    }\n",
              "\n",
              "    [theme=dark] .colab-df-convert:hover {\n",
              "      background-color: #434B5C;\n",
              "      box-shadow: 0px 1px 3px 1px rgba(0, 0, 0, 0.15);\n",
              "      filter: drop-shadow(0px 1px 2px rgba(0, 0, 0, 0.3));\n",
              "      fill: #FFFFFF;\n",
              "    }\n",
              "  </style>\n",
              "\n",
              "      <script>\n",
              "        const buttonEl =\n",
              "          document.querySelector('#df-2e7a623d-d57a-415f-915d-45b348734e9f button.colab-df-convert');\n",
              "        buttonEl.style.display =\n",
              "          google.colab.kernel.accessAllowed ? 'block' : 'none';\n",
              "\n",
              "        async function convertToInteractive(key) {\n",
              "          const element = document.querySelector('#df-2e7a623d-d57a-415f-915d-45b348734e9f');\n",
              "          const dataTable =\n",
              "            await google.colab.kernel.invokeFunction('convertToInteractive',\n",
              "                                                     [key], {});\n",
              "          if (!dataTable) return;\n",
              "\n",
              "          const docLinkHtml = 'Like what you see? Visit the ' +\n",
              "            '<a target=\"_blank\" href=https://colab.research.google.com/notebooks/data_table.ipynb>data table notebook</a>'\n",
              "            + ' to learn more about interactive tables.';\n",
              "          element.innerHTML = '';\n",
              "          dataTable['output_type'] = 'display_data';\n",
              "          await google.colab.output.renderOutput(dataTable, element);\n",
              "          const docLink = document.createElement('div');\n",
              "          docLink.innerHTML = docLinkHtml;\n",
              "          element.appendChild(docLink);\n",
              "        }\n",
              "      </script>\n",
              "    </div>\n",
              "  </div>\n",
              "  "
            ],
            "text/plain": [
              "        trj_id driving_mode   osname  ...  day_of_week  month  year\n",
              "1        73573          car  android  ...            3      4  2019\n",
              "4         4354          car  android  ...            3      4  2019\n",
              "12       26248          car  android  ...            4      4  2019\n",
              "26        4354          car  android  ...            3      4  2019\n",
              "36       82760          car  android  ...            3      4  2019\n",
              "...        ...          ...      ...  ...          ...    ...   ...\n",
              "3034497  50488          car      ios  ...            3      4  2019\n",
              "3034503  77411          car  android  ...            3      4  2019\n",
              "3034508  62555          car      ios  ...            4      4  2019\n",
              "3034514  62555          car      ios  ...            4      4  2019\n",
              "3034515  75896          car  android  ...            6      4  2019\n",
              "\n",
              "[648417 rows x 13 columns]"
            ]
          },
          "metadata": {},
          "execution_count": 43
        }
      ]
    }
  ],
  "metadata": {
    "colab": {
      "provenance": [],
      "toc_visible": true
    },
    "kernelspec": {
      "display_name": "Python 3",
      "name": "python3"
    },
    "language_info": {
      "name": "python"
    }
  },
  "nbformat": 4,
  "nbformat_minor": 0
}