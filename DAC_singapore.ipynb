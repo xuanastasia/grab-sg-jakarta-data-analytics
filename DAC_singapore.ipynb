{
  "cells": [
    {
      "cell_type": "markdown",
      "metadata": {
        "id": "RVng7KyaU-Wb"
      },
      "source": [
        "# Import data\n",
        "\n",
        "*Required dependencies*\n",
        "\n",
        "- pandas\n",
        "- pyarrow / fastparquet\n",
        "- folium\n",
        "- branca (with folium)\n"
      ]
    },
    {
      "cell_type": "code",
      "execution_count": null,
      "metadata": {
        "colab": {
          "base_uri": "https://localhost:8080/",
          "height": 364
        },
        "id": "bNUr9LxtXRT4",
        "outputId": "3c33738d-2785-477c-ce58-6989138858ed"
      },
      "outputs": [
        {
          "output_type": "error",
          "ename": "MessageError",
          "evalue": "ignored",
          "traceback": [
            "\u001b[0;31m---------------------------------------------------------------------------\u001b[0m",
            "\u001b[0;31mMessageError\u001b[0m                              Traceback (most recent call last)",
            "\u001b[0;32m<ipython-input-1-22479e56d00a>\u001b[0m in \u001b[0;36m<module>\u001b[0;34m()\u001b[0m\n\u001b[1;32m      1\u001b[0m \u001b[0;31m# mount drive to access files\u001b[0m\u001b[0;34m\u001b[0m\u001b[0;34m\u001b[0m\u001b[0;34m\u001b[0m\u001b[0m\n\u001b[1;32m      2\u001b[0m \u001b[0;32mfrom\u001b[0m \u001b[0mgoogle\u001b[0m\u001b[0;34m.\u001b[0m\u001b[0mcolab\u001b[0m \u001b[0;32mimport\u001b[0m \u001b[0mdrive\u001b[0m\u001b[0;34m\u001b[0m\u001b[0;34m\u001b[0m\u001b[0m\n\u001b[0;32m----> 3\u001b[0;31m \u001b[0mdrive\u001b[0m\u001b[0;34m.\u001b[0m\u001b[0mmount\u001b[0m\u001b[0;34m(\u001b[0m\u001b[0;34m'/content/drive'\u001b[0m\u001b[0;34m)\u001b[0m\u001b[0;34m\u001b[0m\u001b[0;34m\u001b[0m\u001b[0m\n\u001b[0m",
            "\u001b[0;32m/usr/local/lib/python3.7/dist-packages/google/colab/drive.py\u001b[0m in \u001b[0;36mmount\u001b[0;34m(mountpoint, force_remount, timeout_ms, use_metadata_server)\u001b[0m\n\u001b[1;32m    111\u001b[0m       \u001b[0mtimeout_ms\u001b[0m\u001b[0;34m=\u001b[0m\u001b[0mtimeout_ms\u001b[0m\u001b[0;34m,\u001b[0m\u001b[0;34m\u001b[0m\u001b[0;34m\u001b[0m\u001b[0m\n\u001b[1;32m    112\u001b[0m       \u001b[0muse_metadata_server\u001b[0m\u001b[0;34m=\u001b[0m\u001b[0muse_metadata_server\u001b[0m\u001b[0;34m,\u001b[0m\u001b[0;34m\u001b[0m\u001b[0;34m\u001b[0m\u001b[0m\n\u001b[0;32m--> 113\u001b[0;31m       ephemeral=ephemeral)\n\u001b[0m\u001b[1;32m    114\u001b[0m \u001b[0;34m\u001b[0m\u001b[0m\n\u001b[1;32m    115\u001b[0m \u001b[0;34m\u001b[0m\u001b[0m\n",
            "\u001b[0;32m/usr/local/lib/python3.7/dist-packages/google/colab/drive.py\u001b[0m in \u001b[0;36m_mount\u001b[0;34m(mountpoint, force_remount, timeout_ms, use_metadata_server, ephemeral)\u001b[0m\n\u001b[1;32m    134\u001b[0m   \u001b[0;32mif\u001b[0m \u001b[0mephemeral\u001b[0m\u001b[0;34m:\u001b[0m\u001b[0;34m\u001b[0m\u001b[0;34m\u001b[0m\u001b[0m\n\u001b[1;32m    135\u001b[0m     _message.blocking_request(\n\u001b[0;32m--> 136\u001b[0;31m         'request_auth', request={'authType': 'dfs_ephemeral'}, timeout_sec=None)\n\u001b[0m\u001b[1;32m    137\u001b[0m \u001b[0;34m\u001b[0m\u001b[0m\n\u001b[1;32m    138\u001b[0m   \u001b[0mmountpoint\u001b[0m \u001b[0;34m=\u001b[0m \u001b[0m_os\u001b[0m\u001b[0;34m.\u001b[0m\u001b[0mpath\u001b[0m\u001b[0;34m.\u001b[0m\u001b[0mexpanduser\u001b[0m\u001b[0;34m(\u001b[0m\u001b[0mmountpoint\u001b[0m\u001b[0;34m)\u001b[0m\u001b[0;34m\u001b[0m\u001b[0;34m\u001b[0m\u001b[0m\n",
            "\u001b[0;32m/usr/local/lib/python3.7/dist-packages/google/colab/_message.py\u001b[0m in \u001b[0;36mblocking_request\u001b[0;34m(request_type, request, timeout_sec, parent)\u001b[0m\n\u001b[1;32m    173\u001b[0m   request_id = send_request(\n\u001b[1;32m    174\u001b[0m       request_type, request, parent=parent, expect_reply=True)\n\u001b[0;32m--> 175\u001b[0;31m   \u001b[0;32mreturn\u001b[0m \u001b[0mread_reply_from_input\u001b[0m\u001b[0;34m(\u001b[0m\u001b[0mrequest_id\u001b[0m\u001b[0;34m,\u001b[0m \u001b[0mtimeout_sec\u001b[0m\u001b[0;34m)\u001b[0m\u001b[0;34m\u001b[0m\u001b[0;34m\u001b[0m\u001b[0m\n\u001b[0m",
            "\u001b[0;32m/usr/local/lib/python3.7/dist-packages/google/colab/_message.py\u001b[0m in \u001b[0;36mread_reply_from_input\u001b[0;34m(message_id, timeout_sec)\u001b[0m\n\u001b[1;32m    104\u001b[0m         reply.get('colab_msg_id') == message_id):\n\u001b[1;32m    105\u001b[0m       \u001b[0;32mif\u001b[0m \u001b[0;34m'error'\u001b[0m \u001b[0;32min\u001b[0m \u001b[0mreply\u001b[0m\u001b[0;34m:\u001b[0m\u001b[0;34m\u001b[0m\u001b[0;34m\u001b[0m\u001b[0m\n\u001b[0;32m--> 106\u001b[0;31m         \u001b[0;32mraise\u001b[0m \u001b[0mMessageError\u001b[0m\u001b[0;34m(\u001b[0m\u001b[0mreply\u001b[0m\u001b[0;34m[\u001b[0m\u001b[0;34m'error'\u001b[0m\u001b[0;34m]\u001b[0m\u001b[0;34m)\u001b[0m\u001b[0;34m\u001b[0m\u001b[0;34m\u001b[0m\u001b[0m\n\u001b[0m\u001b[1;32m    107\u001b[0m       \u001b[0;32mreturn\u001b[0m \u001b[0mreply\u001b[0m\u001b[0;34m.\u001b[0m\u001b[0mget\u001b[0m\u001b[0;34m(\u001b[0m\u001b[0;34m'data'\u001b[0m\u001b[0;34m,\u001b[0m \u001b[0;32mNone\u001b[0m\u001b[0;34m)\u001b[0m\u001b[0;34m\u001b[0m\u001b[0;34m\u001b[0m\u001b[0m\n\u001b[1;32m    108\u001b[0m \u001b[0;34m\u001b[0m\u001b[0m\n",
            "\u001b[0;31mMessageError\u001b[0m: Error: credential propagation was unsuccessful"
          ]
        }
      ],
      "source": [
        "# mount drive to access files\n",
        "from google.colab import drive\n",
        "drive.mount('/content/drive')"
      ]
    },
    {
      "cell_type": "code",
      "execution_count": null,
      "metadata": {
        "colab": {
          "base_uri": "https://localhost:8080/"
        },
        "id": "4oeOIRncMwqu",
        "outputId": "5ab95f1a-6370-469b-db62-2a4661fc5de2"
      },
      "outputs": [
        {
          "name": "stdout",
          "output_type": "stream",
          "text": [
            "Archive:  /content/drive/MyDrive/Grab-Posisi dataset/grab-posis-city=Singapore.zip\n",
            "   creating: city=Singapore/\n",
            "  inflating: city=Singapore/part-00003-8bbff892-97d2-4011-9961-703e38972569.c000.snappy.parquet  \n",
            "  inflating: city=Singapore/part-00008-8bbff892-97d2-4011-9961-703e38972569.c000.snappy.parquet  \n",
            "  inflating: city=Singapore/part-00004-8bbff892-97d2-4011-9961-703e38972569.c000.snappy.parquet  \n",
            "  inflating: city=Singapore/part-00005-8bbff892-97d2-4011-9961-703e38972569.c000.snappy.parquet  \n",
            "  inflating: city=Singapore/part-00002-8bbff892-97d2-4011-9961-703e38972569.c000.snappy.parquet  \n",
            "  inflating: city=Singapore/part-00009-8bbff892-97d2-4011-9961-703e38972569.c000.snappy.parquet  \n",
            "  inflating: city=Singapore/part-00007-8bbff892-97d2-4011-9961-703e38972569.c000.snappy.parquet  \n",
            "  inflating: city=Singapore/part-00000-8bbff892-97d2-4011-9961-703e38972569.c000.snappy.parquet  \n",
            "  inflating: city=Singapore/part-00001-8bbff892-97d2-4011-9961-703e38972569.c000.snappy.parquet  \n",
            "  inflating: city=Singapore/part-00006-8bbff892-97d2-4011-9961-703e38972569.c000.snappy.parquet  \n"
          ]
        }
      ],
      "source": [
        "! unzip \"/content/drive/MyDrive/Grab-Posisi dataset/grab-posis-city=Singapore.zip\""
      ]
    },
    {
      "cell_type": "markdown",
      "metadata": {
        "id": "eXDaDHgiWs-G"
      },
      "source": [
        "# Data preparation and engineering"
      ]
    },
    {
      "cell_type": "code",
      "execution_count": null,
      "metadata": {
        "id": "QLDfl37XLbvJ"
      },
      "outputs": [],
      "source": [
        "import pandas as pd\n",
        "import datetime"
      ]
    },
    {
      "cell_type": "code",
      "execution_count": null,
      "metadata": {
        "colab": {
          "base_uri": "https://localhost:8080/",
          "height": 424
        },
        "id": "IKlqp7vxMN6N",
        "outputId": "520e0109-36ed-4cad-cc65-8dce1e83bbda"
      },
      "outputs": [
        {
          "data": {
            "text/html": [
              "\n",
              "  <div id=\"df-19d4586b-525f-43c0-8aa9-8f608c502346\">\n",
              "    <div class=\"colab-df-container\">\n",
              "      <div>\n",
              "<style scoped>\n",
              "    .dataframe tbody tr th:only-of-type {\n",
              "        vertical-align: middle;\n",
              "    }\n",
              "\n",
              "    .dataframe tbody tr th {\n",
              "        vertical-align: top;\n",
              "    }\n",
              "\n",
              "    .dataframe thead th {\n",
              "        text-align: right;\n",
              "    }\n",
              "</style>\n",
              "<table border=\"1\" class=\"dataframe\">\n",
              "  <thead>\n",
              "    <tr style=\"text-align: right;\">\n",
              "      <th></th>\n",
              "      <th>trj_id</th>\n",
              "      <th>driving_mode</th>\n",
              "      <th>osname</th>\n",
              "      <th>pingtimestamp</th>\n",
              "      <th>rawlat</th>\n",
              "      <th>rawlng</th>\n",
              "      <th>speed</th>\n",
              "      <th>bearing</th>\n",
              "      <th>accuracy</th>\n",
              "    </tr>\n",
              "  </thead>\n",
              "  <tbody>\n",
              "    <tr>\n",
              "      <th>0</th>\n",
              "      <td>70014</td>\n",
              "      <td>car</td>\n",
              "      <td>android</td>\n",
              "      <td>1554943236</td>\n",
              "      <td>1.342326</td>\n",
              "      <td>103.888969</td>\n",
              "      <td>18.910000</td>\n",
              "      <td>248</td>\n",
              "      <td>3.9</td>\n",
              "    </tr>\n",
              "    <tr>\n",
              "      <th>1</th>\n",
              "      <td>73573</td>\n",
              "      <td>car</td>\n",
              "      <td>android</td>\n",
              "      <td>1555582623</td>\n",
              "      <td>1.321781</td>\n",
              "      <td>103.856366</td>\n",
              "      <td>17.719076</td>\n",
              "      <td>44</td>\n",
              "      <td>4.0</td>\n",
              "    </tr>\n",
              "    <tr>\n",
              "      <th>2</th>\n",
              "      <td>75567</td>\n",
              "      <td>car</td>\n",
              "      <td>android</td>\n",
              "      <td>1555141026</td>\n",
              "      <td>1.327088</td>\n",
              "      <td>103.861273</td>\n",
              "      <td>14.021548</td>\n",
              "      <td>34</td>\n",
              "      <td>3.9</td>\n",
              "    </tr>\n",
              "    <tr>\n",
              "      <th>3</th>\n",
              "      <td>1410</td>\n",
              "      <td>car</td>\n",
              "      <td>android</td>\n",
              "      <td>1555731693</td>\n",
              "      <td>1.262482</td>\n",
              "      <td>103.823794</td>\n",
              "      <td>13.026521</td>\n",
              "      <td>181</td>\n",
              "      <td>4.0</td>\n",
              "    </tr>\n",
              "    <tr>\n",
              "      <th>4</th>\n",
              "      <td>4354</td>\n",
              "      <td>car</td>\n",
              "      <td>android</td>\n",
              "      <td>1555584497</td>\n",
              "      <td>1.283799</td>\n",
              "      <td>103.807210</td>\n",
              "      <td>14.812943</td>\n",
              "      <td>93</td>\n",
              "      <td>3.9</td>\n",
              "    </tr>\n",
              "    <tr>\n",
              "      <th>...</th>\n",
              "      <td>...</td>\n",
              "      <td>...</td>\n",
              "      <td>...</td>\n",
              "      <td>...</td>\n",
              "      <td>...</td>\n",
              "      <td>...</td>\n",
              "      <td>...</td>\n",
              "      <td>...</td>\n",
              "      <td>...</td>\n",
              "    </tr>\n",
              "    <tr>\n",
              "      <th>3034548</th>\n",
              "      <td>67126</td>\n",
              "      <td>car</td>\n",
              "      <td>android</td>\n",
              "      <td>1554971237</td>\n",
              "      <td>1.349722</td>\n",
              "      <td>103.792840</td>\n",
              "      <td>18.255438</td>\n",
              "      <td>93</td>\n",
              "      <td>6.0</td>\n",
              "    </tr>\n",
              "    <tr>\n",
              "      <th>3034549</th>\n",
              "      <td>11786</td>\n",
              "      <td>car</td>\n",
              "      <td>android</td>\n",
              "      <td>1555248352</td>\n",
              "      <td>1.386651</td>\n",
              "      <td>103.774858</td>\n",
              "      <td>23.341484</td>\n",
              "      <td>352</td>\n",
              "      <td>6.0</td>\n",
              "    </tr>\n",
              "    <tr>\n",
              "      <th>3034550</th>\n",
              "      <td>21686</td>\n",
              "      <td>car</td>\n",
              "      <td>ios</td>\n",
              "      <td>1555805714</td>\n",
              "      <td>1.329604</td>\n",
              "      <td>103.822454</td>\n",
              "      <td>23.468313</td>\n",
              "      <td>111</td>\n",
              "      <td>5.0</td>\n",
              "    </tr>\n",
              "    <tr>\n",
              "      <th>3034551</th>\n",
              "      <td>70139</td>\n",
              "      <td>car</td>\n",
              "      <td>android</td>\n",
              "      <td>1555685891</td>\n",
              "      <td>1.322202</td>\n",
              "      <td>103.886999</td>\n",
              "      <td>20.248346</td>\n",
              "      <td>266</td>\n",
              "      <td>6.0</td>\n",
              "    </tr>\n",
              "    <tr>\n",
              "      <th>3034552</th>\n",
              "      <td>23407</td>\n",
              "      <td>car</td>\n",
              "      <td>ios</td>\n",
              "      <td>1554852531</td>\n",
              "      <td>1.394246</td>\n",
              "      <td>103.906796</td>\n",
              "      <td>23.827988</td>\n",
              "      <td>313</td>\n",
              "      <td>12.0</td>\n",
              "    </tr>\n",
              "  </tbody>\n",
              "</table>\n",
              "<p>3034553 rows × 9 columns</p>\n",
              "</div>\n",
              "      <button class=\"colab-df-convert\" onclick=\"convertToInteractive('df-19d4586b-525f-43c0-8aa9-8f608c502346')\"\n",
              "              title=\"Convert this dataframe to an interactive table.\"\n",
              "              style=\"display:none;\">\n",
              "        \n",
              "  <svg xmlns=\"http://www.w3.org/2000/svg\" height=\"24px\"viewBox=\"0 0 24 24\"\n",
              "       width=\"24px\">\n",
              "    <path d=\"M0 0h24v24H0V0z\" fill=\"none\"/>\n",
              "    <path d=\"M18.56 5.44l.94 2.06.94-2.06 2.06-.94-2.06-.94-.94-2.06-.94 2.06-2.06.94zm-11 1L8.5 8.5l.94-2.06 2.06-.94-2.06-.94L8.5 2.5l-.94 2.06-2.06.94zm10 10l.94 2.06.94-2.06 2.06-.94-2.06-.94-.94-2.06-.94 2.06-2.06.94z\"/><path d=\"M17.41 7.96l-1.37-1.37c-.4-.4-.92-.59-1.43-.59-.52 0-1.04.2-1.43.59L10.3 9.45l-7.72 7.72c-.78.78-.78 2.05 0 2.83L4 21.41c.39.39.9.59 1.41.59.51 0 1.02-.2 1.41-.59l7.78-7.78 2.81-2.81c.8-.78.8-2.07 0-2.86zM5.41 20L4 18.59l7.72-7.72 1.47 1.35L5.41 20z\"/>\n",
              "  </svg>\n",
              "      </button>\n",
              "      \n",
              "  <style>\n",
              "    .colab-df-container {\n",
              "      display:flex;\n",
              "      flex-wrap:wrap;\n",
              "      gap: 12px;\n",
              "    }\n",
              "\n",
              "    .colab-df-convert {\n",
              "      background-color: #E8F0FE;\n",
              "      border: none;\n",
              "      border-radius: 50%;\n",
              "      cursor: pointer;\n",
              "      display: none;\n",
              "      fill: #1967D2;\n",
              "      height: 32px;\n",
              "      padding: 0 0 0 0;\n",
              "      width: 32px;\n",
              "    }\n",
              "\n",
              "    .colab-df-convert:hover {\n",
              "      background-color: #E2EBFA;\n",
              "      box-shadow: 0px 1px 2px rgba(60, 64, 67, 0.3), 0px 1px 3px 1px rgba(60, 64, 67, 0.15);\n",
              "      fill: #174EA6;\n",
              "    }\n",
              "\n",
              "    [theme=dark] .colab-df-convert {\n",
              "      background-color: #3B4455;\n",
              "      fill: #D2E3FC;\n",
              "    }\n",
              "\n",
              "    [theme=dark] .colab-df-convert:hover {\n",
              "      background-color: #434B5C;\n",
              "      box-shadow: 0px 1px 3px 1px rgba(0, 0, 0, 0.15);\n",
              "      filter: drop-shadow(0px 1px 2px rgba(0, 0, 0, 0.3));\n",
              "      fill: #FFFFFF;\n",
              "    }\n",
              "  </style>\n",
              "\n",
              "      <script>\n",
              "        const buttonEl =\n",
              "          document.querySelector('#df-19d4586b-525f-43c0-8aa9-8f608c502346 button.colab-df-convert');\n",
              "        buttonEl.style.display =\n",
              "          google.colab.kernel.accessAllowed ? 'block' : 'none';\n",
              "\n",
              "        async function convertToInteractive(key) {\n",
              "          const element = document.querySelector('#df-19d4586b-525f-43c0-8aa9-8f608c502346');\n",
              "          const dataTable =\n",
              "            await google.colab.kernel.invokeFunction('convertToInteractive',\n",
              "                                                     [key], {});\n",
              "          if (!dataTable) return;\n",
              "\n",
              "          const docLinkHtml = 'Like what you see? Visit the ' +\n",
              "            '<a target=\"_blank\" href=https://colab.research.google.com/notebooks/data_table.ipynb>data table notebook</a>'\n",
              "            + ' to learn more about interactive tables.';\n",
              "          element.innerHTML = '';\n",
              "          dataTable['output_type'] = 'display_data';\n",
              "          await google.colab.output.renderOutput(dataTable, element);\n",
              "          const docLink = document.createElement('div');\n",
              "          docLink.innerHTML = docLinkHtml;\n",
              "          element.appendChild(docLink);\n",
              "        }\n",
              "      </script>\n",
              "    </div>\n",
              "  </div>\n",
              "  "
            ],
            "text/plain": [
              "        trj_id driving_mode   osname  ...      speed  bearing  accuracy\n",
              "0        70014          car  android  ...  18.910000      248       3.9\n",
              "1        73573          car  android  ...  17.719076       44       4.0\n",
              "2        75567          car  android  ...  14.021548       34       3.9\n",
              "3         1410          car  android  ...  13.026521      181       4.0\n",
              "4         4354          car  android  ...  14.812943       93       3.9\n",
              "...        ...          ...      ...  ...        ...      ...       ...\n",
              "3034548  67126          car  android  ...  18.255438       93       6.0\n",
              "3034549  11786          car  android  ...  23.341484      352       6.0\n",
              "3034550  21686          car      ios  ...  23.468313      111       5.0\n",
              "3034551  70139          car  android  ...  20.248346      266       6.0\n",
              "3034552  23407          car      ios  ...  23.827988      313      12.0\n",
              "\n",
              "[3034553 rows x 9 columns]"
            ]
          },
          "execution_count": 5,
          "metadata": {},
          "output_type": "execute_result"
        }
      ],
      "source": [
        "df = pd.read_parquet(\"/content/city=Singapore/part-00000-8bbff892-97d2-4011-9961-703e38972569.c000.snappy.parquet\", engine = 'pyarrow')\n",
        "df"
      ]
    },
    {
      "cell_type": "markdown",
      "metadata": {
        "id": "xgIySi7Jjr7L"
      },
      "source": [
        "Note that pingtimestamp is unix time, meaning that it is the number of seconds from 1 Jan 1970"
      ]
    },
    {
      "cell_type": "code",
      "execution_count": null,
      "metadata": {
        "colab": {
          "base_uri": "https://localhost:8080/"
        },
        "id": "wY868kbfNVPm",
        "outputId": "6764e449-aca7-4de2-8544-9c0dd41d66d8"
      },
      "outputs": [
        {
          "name": "stdout",
          "output_type": "stream",
          "text": [
            "<class 'pandas.core.frame.DataFrame'>\n",
            "RangeIndex: 3034553 entries, 0 to 3034552\n",
            "Data columns (total 9 columns):\n",
            " #   Column         Dtype  \n",
            "---  ------         -----  \n",
            " 0   trj_id         object \n",
            " 1   driving_mode   object \n",
            " 2   osname         object \n",
            " 3   pingtimestamp  int64  \n",
            " 4   rawlat         float64\n",
            " 5   rawlng         float64\n",
            " 6   speed          float64\n",
            " 7   bearing        int64  \n",
            " 8   accuracy       float64\n",
            "dtypes: float64(4), int64(2), object(3)\n",
            "memory usage: 208.4+ MB\n"
          ]
        }
      ],
      "source": [
        "# show full summary of data\n",
        "df.info()"
      ]
    },
    {
      "cell_type": "markdown",
      "metadata": {
        "id": "FZIKGlvw5fAa"
      },
      "source": [
        "We have a lot of data, which might cause memory issues when combining them. So we need to optimise for the amount of space used."
      ]
    },
    {
      "cell_type": "markdown",
      "metadata": {
        "id": "AmRe8Bbw59-G"
      },
      "source": [
        "We can see that by default, the variables' data types are `object`, `int64` and `float64`. These take up more space than needed, so we should utilise smaller and more efficient dtypes."
      ]
    },
    {
      "cell_type": "markdown",
      "metadata": {
        "id": "TSPFa-JwiZhb"
      },
      "source": [
        "![1_fsEpwfWQBMnaC6iISieHOw.png](data:image/png;base64,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)"
      ]
    },
    {
      "cell_type": "code",
      "execution_count": null,
      "metadata": {
        "id": "1lqM6-drMYvb"
      },
      "outputs": [],
      "source": [
        "# functions to change dtypes\n",
        "def to_category(df, *args):\n",
        "    for col_name in args:\n",
        "        df[col_name] = df[col_name].astype(\"category\")\n",
        "    \n",
        "def to_float32(df, *args):\n",
        "    for col_name in args:\n",
        "        df[col_name] = df[col_name].astype(\"float32\")\n",
        "        \n",
        "def to_uint16(df, *args):\n",
        "    for col_name in args:\n",
        "        df[col_name] = df[col_name].astype(\"uint16\")\n",
        "  \n",
        "def to_int32(df, *args):\n",
        "    for col_name in args:\n",
        "      df[col_name] = df[col_name].astype(\"int32\")\n",
        "\n",
        "def format_datetime(df, col_name):\n",
        "    # get datetime obj for all timestamps\n",
        "    dt = df[col_name].apply(datetime.datetime.fromtimestamp)\n",
        "    \n",
        "    df[\"time\"] = dt.apply(lambda x: x.time())\n",
        "    df[\"day_of_week\"] = dt.apply(lambda x: x.weekday())\n",
        "    df[\"month\"] = dt.apply(lambda x: x.month)\n",
        "    df[\"year\"] = dt.apply(lambda x: x.year)"
      ]
    },
    {
      "cell_type": "code",
      "execution_count": null,
      "metadata": {
        "id": "SxDeJlTCOFoT"
      },
      "outputs": [],
      "source": [
        "# get a copy of the df\n",
        "df_formatted = df.copy()"
      ]
    },
    {
      "cell_type": "code",
      "execution_count": null,
      "metadata": {
        "id": "FkEvl9l3N-Uz"
      },
      "outputs": [],
      "source": [
        "# format all columns\n",
        "format_datetime(df_formatted, \"pingtimestamp\")\n",
        "to_category(df_formatted, [\"trj_id\", \"driving_mode\", \"osname\"])\n",
        "to_float32(df_formatted, [\"rawlat\", \"rawlng\", \"speed\", \"accuracy\"])\n",
        "to_uint16(df_formatted, [\"bearing\", \"day_of_week\", \"month\", \"year\"])\n",
        "to_int32(df_formatted, \"pingtimestamp\")"
      ]
    },
    {
      "cell_type": "code",
      "execution_count": null,
      "metadata": {
        "colab": {
          "base_uri": "https://localhost:8080/"
        },
        "id": "Jq8wgeElZaqB",
        "outputId": "679122b0-658b-4d3d-bc32-f305eceb7c30"
      },
      "outputs": [
        {
          "name": "stdout",
          "output_type": "stream",
          "text": [
            "<class 'pandas.core.frame.DataFrame'>\n",
            "RangeIndex: 3034553 entries, 0 to 3034552\n",
            "Data columns (total 13 columns):\n",
            " #   Column         Dtype   \n",
            "---  ------         -----   \n",
            " 0   trj_id         category\n",
            " 1   driving_mode   category\n",
            " 2   osname         category\n",
            " 3   pingtimestamp  int32   \n",
            " 4   rawlat         float32 \n",
            " 5   rawlng         float32 \n",
            " 6   speed          float32 \n",
            " 7   bearing        uint16  \n",
            " 8   accuracy       float32 \n",
            " 9   time           object  \n",
            " 10  day_of_week    uint16  \n",
            " 11  month          uint16  \n",
            " 12  year           uint16  \n",
            "dtypes: category(3), float32(4), int32(1), object(1), uint16(4)\n",
            "memory usage: 117.0+ MB\n"
          ]
        }
      ],
      "source": [
        "# check summary of df again\n",
        "df_formatted.info()"
      ]
    },
    {
      "cell_type": "markdown",
      "metadata": {
        "id": "snA4MFlq6eW4"
      },
      "source": [
        "There's a significant reduction in memory usage."
      ]
    },
    {
      "cell_type": "markdown",
      "metadata": {
        "id": "0BmsECxZ7o8i"
      },
      "source": [
        "---"
      ]
    },
    {
      "cell_type": "code",
      "execution_count": null,
      "metadata": {
        "id": "EjckwCmTDjh7"
      },
      "outputs": [],
      "source": [
        "import matplotlib.pyplot as plt\n",
        "import seaborn as sns"
      ]
    },
    {
      "cell_type": "code",
      "execution_count": null,
      "metadata": {
        "colab": {
          "base_uri": "https://localhost:8080/",
          "height": 424
        },
        "id": "y9QOOWMly4fd",
        "outputId": "642f0ee4-5989-4d50-9f6f-06f9da9620a4"
      },
      "outputs": [
        {
          "data": {
            "text/html": [
              "\n",
              "  <div id=\"df-2bdd1b78-8ddb-4331-bef0-9f3cc3ae7085\">\n",
              "    <div class=\"colab-df-container\">\n",
              "      <div>\n",
              "<style scoped>\n",
              "    .dataframe tbody tr th:only-of-type {\n",
              "        vertical-align: middle;\n",
              "    }\n",
              "\n",
              "    .dataframe tbody tr th {\n",
              "        vertical-align: top;\n",
              "    }\n",
              "\n",
              "    .dataframe thead th {\n",
              "        text-align: right;\n",
              "    }\n",
              "</style>\n",
              "<table border=\"1\" class=\"dataframe\">\n",
              "  <thead>\n",
              "    <tr style=\"text-align: right;\">\n",
              "      <th></th>\n",
              "      <th>trj_id</th>\n",
              "      <th>driving_mode</th>\n",
              "      <th>osname</th>\n",
              "      <th>pingtimestamp</th>\n",
              "      <th>rawlat</th>\n",
              "      <th>rawlng</th>\n",
              "      <th>speed</th>\n",
              "      <th>bearing</th>\n",
              "      <th>accuracy</th>\n",
              "      <th>time</th>\n",
              "      <th>day_of_week</th>\n",
              "      <th>month</th>\n",
              "      <th>year</th>\n",
              "    </tr>\n",
              "  </thead>\n",
              "  <tbody>\n",
              "    <tr>\n",
              "      <th>0</th>\n",
              "      <td>70014</td>\n",
              "      <td>car</td>\n",
              "      <td>android</td>\n",
              "      <td>1554943236</td>\n",
              "      <td>1.342326</td>\n",
              "      <td>103.888969</td>\n",
              "      <td>18.910000</td>\n",
              "      <td>248</td>\n",
              "      <td>3.9</td>\n",
              "      <td>00:40:36</td>\n",
              "      <td>3</td>\n",
              "      <td>4</td>\n",
              "      <td>2019</td>\n",
              "    </tr>\n",
              "    <tr>\n",
              "      <th>1</th>\n",
              "      <td>73573</td>\n",
              "      <td>car</td>\n",
              "      <td>android</td>\n",
              "      <td>1555582623</td>\n",
              "      <td>1.321781</td>\n",
              "      <td>103.856369</td>\n",
              "      <td>17.719076</td>\n",
              "      <td>44</td>\n",
              "      <td>4.0</td>\n",
              "      <td>10:17:03</td>\n",
              "      <td>3</td>\n",
              "      <td>4</td>\n",
              "      <td>2019</td>\n",
              "    </tr>\n",
              "    <tr>\n",
              "      <th>2</th>\n",
              "      <td>75567</td>\n",
              "      <td>car</td>\n",
              "      <td>android</td>\n",
              "      <td>1555141026</td>\n",
              "      <td>1.327088</td>\n",
              "      <td>103.861275</td>\n",
              "      <td>14.021548</td>\n",
              "      <td>34</td>\n",
              "      <td>3.9</td>\n",
              "      <td>07:37:06</td>\n",
              "      <td>5</td>\n",
              "      <td>4</td>\n",
              "      <td>2019</td>\n",
              "    </tr>\n",
              "    <tr>\n",
              "      <th>3</th>\n",
              "      <td>1410</td>\n",
              "      <td>car</td>\n",
              "      <td>android</td>\n",
              "      <td>1555731693</td>\n",
              "      <td>1.262482</td>\n",
              "      <td>103.823792</td>\n",
              "      <td>13.026521</td>\n",
              "      <td>181</td>\n",
              "      <td>4.0</td>\n",
              "      <td>03:41:33</td>\n",
              "      <td>5</td>\n",
              "      <td>4</td>\n",
              "      <td>2019</td>\n",
              "    </tr>\n",
              "    <tr>\n",
              "      <th>4</th>\n",
              "      <td>4354</td>\n",
              "      <td>car</td>\n",
              "      <td>android</td>\n",
              "      <td>1555584497</td>\n",
              "      <td>1.283799</td>\n",
              "      <td>103.807213</td>\n",
              "      <td>14.812943</td>\n",
              "      <td>93</td>\n",
              "      <td>3.9</td>\n",
              "      <td>10:48:17</td>\n",
              "      <td>3</td>\n",
              "      <td>4</td>\n",
              "      <td>2019</td>\n",
              "    </tr>\n",
              "    <tr>\n",
              "      <th>...</th>\n",
              "      <td>...</td>\n",
              "      <td>...</td>\n",
              "      <td>...</td>\n",
              "      <td>...</td>\n",
              "      <td>...</td>\n",
              "      <td>...</td>\n",
              "      <td>...</td>\n",
              "      <td>...</td>\n",
              "      <td>...</td>\n",
              "      <td>...</td>\n",
              "      <td>...</td>\n",
              "      <td>...</td>\n",
              "      <td>...</td>\n",
              "    </tr>\n",
              "    <tr>\n",
              "      <th>3034548</th>\n",
              "      <td>67126</td>\n",
              "      <td>car</td>\n",
              "      <td>android</td>\n",
              "      <td>1554971237</td>\n",
              "      <td>1.349722</td>\n",
              "      <td>103.792839</td>\n",
              "      <td>18.255438</td>\n",
              "      <td>93</td>\n",
              "      <td>6.0</td>\n",
              "      <td>08:27:17</td>\n",
              "      <td>3</td>\n",
              "      <td>4</td>\n",
              "      <td>2019</td>\n",
              "    </tr>\n",
              "    <tr>\n",
              "      <th>3034549</th>\n",
              "      <td>11786</td>\n",
              "      <td>car</td>\n",
              "      <td>android</td>\n",
              "      <td>1555248352</td>\n",
              "      <td>1.386651</td>\n",
              "      <td>103.774857</td>\n",
              "      <td>23.341484</td>\n",
              "      <td>352</td>\n",
              "      <td>6.0</td>\n",
              "      <td>13:25:52</td>\n",
              "      <td>6</td>\n",
              "      <td>4</td>\n",
              "      <td>2019</td>\n",
              "    </tr>\n",
              "    <tr>\n",
              "      <th>3034550</th>\n",
              "      <td>21686</td>\n",
              "      <td>car</td>\n",
              "      <td>ios</td>\n",
              "      <td>1555805714</td>\n",
              "      <td>1.329604</td>\n",
              "      <td>103.822456</td>\n",
              "      <td>23.468313</td>\n",
              "      <td>111</td>\n",
              "      <td>5.0</td>\n",
              "      <td>00:15:14</td>\n",
              "      <td>6</td>\n",
              "      <td>4</td>\n",
              "      <td>2019</td>\n",
              "    </tr>\n",
              "    <tr>\n",
              "      <th>3034551</th>\n",
              "      <td>70139</td>\n",
              "      <td>car</td>\n",
              "      <td>android</td>\n",
              "      <td>1555685891</td>\n",
              "      <td>1.322202</td>\n",
              "      <td>103.887001</td>\n",
              "      <td>20.248346</td>\n",
              "      <td>266</td>\n",
              "      <td>6.0</td>\n",
              "      <td>14:58:11</td>\n",
              "      <td>4</td>\n",
              "      <td>4</td>\n",
              "      <td>2019</td>\n",
              "    </tr>\n",
              "    <tr>\n",
              "      <th>3034552</th>\n",
              "      <td>23407</td>\n",
              "      <td>car</td>\n",
              "      <td>ios</td>\n",
              "      <td>1554852531</td>\n",
              "      <td>1.394246</td>\n",
              "      <td>103.906799</td>\n",
              "      <td>23.827988</td>\n",
              "      <td>313</td>\n",
              "      <td>12.0</td>\n",
              "      <td>23:28:51</td>\n",
              "      <td>1</td>\n",
              "      <td>4</td>\n",
              "      <td>2019</td>\n",
              "    </tr>\n",
              "  </tbody>\n",
              "</table>\n",
              "<p>3034553 rows × 13 columns</p>\n",
              "</div>\n",
              "      <button class=\"colab-df-convert\" onclick=\"convertToInteractive('df-2bdd1b78-8ddb-4331-bef0-9f3cc3ae7085')\"\n",
              "              title=\"Convert this dataframe to an interactive table.\"\n",
              "              style=\"display:none;\">\n",
              "        \n",
              "  <svg xmlns=\"http://www.w3.org/2000/svg\" height=\"24px\"viewBox=\"0 0 24 24\"\n",
              "       width=\"24px\">\n",
              "    <path d=\"M0 0h24v24H0V0z\" fill=\"none\"/>\n",
              "    <path d=\"M18.56 5.44l.94 2.06.94-2.06 2.06-.94-2.06-.94-.94-2.06-.94 2.06-2.06.94zm-11 1L8.5 8.5l.94-2.06 2.06-.94-2.06-.94L8.5 2.5l-.94 2.06-2.06.94zm10 10l.94 2.06.94-2.06 2.06-.94-2.06-.94-.94-2.06-.94 2.06-2.06.94z\"/><path d=\"M17.41 7.96l-1.37-1.37c-.4-.4-.92-.59-1.43-.59-.52 0-1.04.2-1.43.59L10.3 9.45l-7.72 7.72c-.78.78-.78 2.05 0 2.83L4 21.41c.39.39.9.59 1.41.59.51 0 1.02-.2 1.41-.59l7.78-7.78 2.81-2.81c.8-.78.8-2.07 0-2.86zM5.41 20L4 18.59l7.72-7.72 1.47 1.35L5.41 20z\"/>\n",
              "  </svg>\n",
              "      </button>\n",
              "      \n",
              "  <style>\n",
              "    .colab-df-container {\n",
              "      display:flex;\n",
              "      flex-wrap:wrap;\n",
              "      gap: 12px;\n",
              "    }\n",
              "\n",
              "    .colab-df-convert {\n",
              "      background-color: #E8F0FE;\n",
              "      border: none;\n",
              "      border-radius: 50%;\n",
              "      cursor: pointer;\n",
              "      display: none;\n",
              "      fill: #1967D2;\n",
              "      height: 32px;\n",
              "      padding: 0 0 0 0;\n",
              "      width: 32px;\n",
              "    }\n",
              "\n",
              "    .colab-df-convert:hover {\n",
              "      background-color: #E2EBFA;\n",
              "      box-shadow: 0px 1px 2px rgba(60, 64, 67, 0.3), 0px 1px 3px 1px rgba(60, 64, 67, 0.15);\n",
              "      fill: #174EA6;\n",
              "    }\n",
              "\n",
              "    [theme=dark] .colab-df-convert {\n",
              "      background-color: #3B4455;\n",
              "      fill: #D2E3FC;\n",
              "    }\n",
              "\n",
              "    [theme=dark] .colab-df-convert:hover {\n",
              "      background-color: #434B5C;\n",
              "      box-shadow: 0px 1px 3px 1px rgba(0, 0, 0, 0.15);\n",
              "      filter: drop-shadow(0px 1px 2px rgba(0, 0, 0, 0.3));\n",
              "      fill: #FFFFFF;\n",
              "    }\n",
              "  </style>\n",
              "\n",
              "      <script>\n",
              "        const buttonEl =\n",
              "          document.querySelector('#df-2bdd1b78-8ddb-4331-bef0-9f3cc3ae7085 button.colab-df-convert');\n",
              "        buttonEl.style.display =\n",
              "          google.colab.kernel.accessAllowed ? 'block' : 'none';\n",
              "\n",
              "        async function convertToInteractive(key) {\n",
              "          const element = document.querySelector('#df-2bdd1b78-8ddb-4331-bef0-9f3cc3ae7085');\n",
              "          const dataTable =\n",
              "            await google.colab.kernel.invokeFunction('convertToInteractive',\n",
              "                                                     [key], {});\n",
              "          if (!dataTable) return;\n",
              "\n",
              "          const docLinkHtml = 'Like what you see? Visit the ' +\n",
              "            '<a target=\"_blank\" href=https://colab.research.google.com/notebooks/data_table.ipynb>data table notebook</a>'\n",
              "            + ' to learn more about interactive tables.';\n",
              "          element.innerHTML = '';\n",
              "          dataTable['output_type'] = 'display_data';\n",
              "          await google.colab.output.renderOutput(dataTable, element);\n",
              "          const docLink = document.createElement('div');\n",
              "          docLink.innerHTML = docLinkHtml;\n",
              "          element.appendChild(docLink);\n",
              "        }\n",
              "      </script>\n",
              "    </div>\n",
              "  </div>\n",
              "  "
            ],
            "text/plain": [
              "        trj_id driving_mode   osname  ...  day_of_week  month  year\n",
              "0        70014          car  android  ...            3      4  2019\n",
              "1        73573          car  android  ...            3      4  2019\n",
              "2        75567          car  android  ...            5      4  2019\n",
              "3         1410          car  android  ...            5      4  2019\n",
              "4         4354          car  android  ...            3      4  2019\n",
              "...        ...          ...      ...  ...          ...    ...   ...\n",
              "3034548  67126          car  android  ...            3      4  2019\n",
              "3034549  11786          car  android  ...            6      4  2019\n",
              "3034550  21686          car      ios  ...            6      4  2019\n",
              "3034551  70139          car  android  ...            4      4  2019\n",
              "3034552  23407          car      ios  ...            1      4  2019\n",
              "\n",
              "[3034553 rows x 13 columns]"
            ]
          },
          "execution_count": 16,
          "metadata": {},
          "output_type": "execute_result"
        }
      ],
      "source": [
        "df_formatted"
      ]
    },
    {
      "cell_type": "markdown",
      "metadata": {
        "id": "8GvT6x5-3CeN"
      },
      "source": [
        "We can start by asking a few questions.\n",
        "\n"
      ]
    },
    {
      "cell_type": "markdown",
      "metadata": {
        "id": "5fB4XyWq6zwr"
      },
      "source": [
        "Why delay? What causes delay?\n",
        "1. too few drivers/too much demand for transport services\n",
        "2. traffic jam\n",
        "3. bad ETA prediction \n",
        "\n",
        "How many trajectories (trips) do we have?"
      ]
    },
    {
      "cell_type": "code",
      "execution_count": null,
      "metadata": {
        "colab": {
          "base_uri": "https://localhost:8080/"
        },
        "id": "vG5fR8Y-nR4n",
        "outputId": "9ab6bfa1-b954-4eb7-b864-a8ea341c3961"
      },
      "outputs": [
        {
          "data": {
            "text/plain": [
              "28000"
            ]
          },
          "execution_count": 17,
          "metadata": {},
          "output_type": "execute_result"
        }
      ],
      "source": [
        "df_formatted['trj_id'].nunique()"
      ]
    },
    {
      "cell_type": "code",
      "execution_count": null,
      "metadata": {
        "colab": {
          "base_uri": "https://localhost:8080/"
        },
        "id": "30WheDHPb_Gb",
        "outputId": "018874a2-f4e7-41ce-ff0e-43bf0e30b14b"
      },
      "outputs": [
        {
          "data": {
            "text/plain": [
              "78371    674\n",
              "77844    470\n",
              "72549    435\n",
              "79794    408\n",
              "75826    373\n",
              "        ... \n",
              "34226     52\n",
              "60190     51\n",
              "28734     50\n",
              "61196     48\n",
              "42338     48\n",
              "Name: trj_id, Length: 28000, dtype: int64"
            ]
          },
          "execution_count": 18,
          "metadata": {},
          "output_type": "execute_result"
        }
      ],
      "source": [
        "df_formatted['trj_id'].value_counts()"
      ]
    },
    {
      "cell_type": "markdown",
      "metadata": {
        "id": "zx5pC92GnR4s"
      },
      "source": [
        "Is there a huge difference between driving_mode?\n",
        "\n",
        "Maybe motorcycles would have less delays than cars"
      ]
    },
    {
      "cell_type": "code",
      "execution_count": null,
      "metadata": {
        "colab": {
          "base_uri": "https://localhost:8080/",
          "height": 282
        },
        "id": "jBwrjSkanR4s",
        "outputId": "5c573ee0-9865-4295-b6e7-61a4e41670d0"
      },
      "outputs": [
        {
          "output_type": "execute_result",
          "data": {
            "text/plain": [
              "<matplotlib.axes._subplots.AxesSubplot at 0x7f6a0fbeca50>"
            ]
          },
          "metadata": {},
          "execution_count": 45
        },
        {
          "output_type": "display_data",
          "data": {
            "image/png": "[encoded data removed]",
            "text/plain": [
              "<Figure size 432x288 with 1 Axes>"
            ]
          },
          "metadata": {
            "needs_background": "light"
          }
        }
      ],
      "source": [
        "driving_modes = df_formatted.groupby('trj_id').apply(lambda x: x.iloc[0, 1])\n",
        "sns.countplot(x = driving_modes)"
      ]
    },
    {
      "cell_type": "code",
      "source": [],
      "metadata": {
        "colab": {
          "base_uri": "https://localhost:8080/"
        },
        "id": "J6RtXIrrY2Pe",
        "outputId": "86bd817c-948b-44e2-b656-f72bafab072c"
      },
      "execution_count": null,
      "outputs": [
        {
          "output_type": "execute_result",
          "data": {
            "text/plain": [
              "trj_id\n",
              "10       car\n",
              "100      car\n",
              "1000     car\n",
              "10001    car\n",
              "10004    car\n",
              "        ... \n",
              "997      car\n",
              "9970     car\n",
              "998      car\n",
              "9982     car\n",
              "9984     car\n",
              "Length: 28000, dtype: object"
            ]
          },
          "metadata": {},
          "execution_count": 46
        }
      ]
    },
    {
      "cell_type": "markdown",
      "metadata": {
        "id": "uL_YUrREnR4s"
      },
      "source": [
        "Distribution of os\n",
        "\n",
        "Different os might have different accuracy/bugs"
      ]
    },
    {
      "cell_type": "code",
      "execution_count": null,
      "metadata": {
        "id": "t9cz3WdLnR4t"
      },
      "outputs": [],
      "source": [
        "osnames = df_formatted.groupby('trj_id').apply(lambda x: x.iloc[0, 2])\n",
        "sns.countplot(x = osnames)"
      ]
    },
    {
      "cell_type": "code",
      "execution_count": null,
      "metadata": {
        "colab": {
          "base_uri": "https://localhost:8080/",
          "height": 296
        },
        "id": "cV1vikjLnXza",
        "outputId": "610218c0-a82d-4690-ace4-a8218aa78231"
      },
      "outputs": [
        {
          "data": {
            "text/plain": [
              "<matplotlib.axes._subplots.AxesSubplot at 0x7f6a26a6c250>"
            ]
          },
          "execution_count": 21,
          "metadata": {},
          "output_type": "execute_result"
        },
        {
          "data": {
            "image/png": "[encoded data removed]",
            "text/plain": [
              "<Figure size 432x288 with 1 Axes>"
            ]
          },
          "metadata": {},
          "output_type": "display_data"
        }
      ],
      "source": [
        "sns.boxplot(data = df_formatted, x = 'osname', y = 'speed', showfliers = False)"
      ]
    },
    {
      "cell_type": "code",
      "source": [
        "plt.scatter(data = df_formatted, x = 'osname', y = 'accuracy')"
      ],
      "metadata": {
        "colab": {
          "base_uri": "https://localhost:8080/",
          "height": 296
        },
        "id": "B4ucZberU1Wd",
        "outputId": "fc0fe105-4597-46c4-a34e-18aa3471af3b"
      },
      "execution_count": null,
      "outputs": [
        {
          "output_type": "execute_result",
          "data": {
            "text/plain": [
              "<matplotlib.axes._subplots.AxesSubplot at 0x7f6a0fcc9410>"
            ]
          },
          "metadata": {},
          "execution_count": 37
        },
        {
          "output_type": "display_data",
          "data": {
            "image/png": "[encoded data removed]",
            "text/plain": [
              "<Figure size 432x288 with 1 Axes>"
            ]
          },
          "metadata": {
            "needs_background": "light"
          }
        }
      ]
    },
    {
      "cell_type": "markdown",
      "source": [
        "ios results in higher inaccuracies of the tracking, resulting in higher delays."
      ],
      "metadata": {
        "id": "CsEYMg6xVb_M"
      }
    },
    {
      "cell_type": "code",
      "source": [
        "plt.scatter( df_formatted['day_of_week'], df_formatted['accuracy'] )"
      ],
      "metadata": {
        "colab": {
          "base_uri": "https://localhost:8080/",
          "height": 282
        },
        "id": "esQh6VaRVp3m",
        "outputId": "a02950bf-81a7-473d-b365-87baf0191694"
      },
      "execution_count": null,
      "outputs": [
        {
          "output_type": "execute_result",
          "data": {
            "text/plain": [
              "<matplotlib.collections.PathCollection at 0x7f6a0fb03590>"
            ]
          },
          "metadata": {},
          "execution_count": 39
        },
        {
          "output_type": "display_data",
          "data": {
            "image/png": "[encoded data removed]",
            "text/plain": [
              "<Figure size 432x288 with 1 Axes>"
            ]
          },
          "metadata": {
            "needs_background": "light"
          }
        }
      ]
    },
    {
      "cell_type": "markdown",
      "source": [
        "sunday has lowest level of inaccuracies due to low level of traffic"
      ],
      "metadata": {
        "id": "1taPnw8vWv39"
      }
    },
    {
      "cell_type": "code",
      "source": [],
      "metadata": {
        "id": "QgdEvTfQW7GG"
      },
      "execution_count": null,
      "outputs": []
    },
    {
      "cell_type": "markdown",
      "metadata": {
        "id": "xwE4Hau2nR4t"
      },
      "source": [
        "Which period of time is the busiest?\n",
        "\n",
        "7-10am? 5-7pm?\n",
        "\n",
        "discretization"
      ]
    },
    {
      "cell_type": "code",
      "execution_count": null,
      "metadata": {
        "colab": {
          "base_uri": "https://localhost:8080/",
          "height": 296
        },
        "id": "XdYH5G4EnR4t",
        "outputId": "966b8c85-c215-40ca-bba2-7fd7e5b48817"
      },
      "outputs": [
        {
          "data": {
            "text/plain": [
              "<matplotlib.axes._subplots.AxesSubplot at 0x7f6a268ab790>"
            ]
          },
          "execution_count": 23,
          "metadata": {},
          "output_type": "execute_result"
        },
        {
          "data": {
            "image/png": "[encoded data removed]",
            "text/plain": [
              "<Figure size 432x288 with 1 Axes>"
            ]
          },
          "metadata": {},
          "output_type": "display_data"
        }
      ],
      "source": [
        "hours = df_formatted['time'].apply(lambda x: x.hour)\n",
        "sns.countplot(x = hours, color = 'grey')"
      ]
    },
    {
      "cell_type": "code",
      "source": [],
      "metadata": {
        "colab": {
          "base_uri": "https://localhost:8080/"
        },
        "id": "iG9_2TbCYNkO",
        "outputId": "0fd8ebb6-8022-4e88-d5b1-31827a75e9b5"
      },
      "execution_count": null,
      "outputs": [
        {
          "output_type": "execute_result",
          "data": {
            "text/plain": [
              "0           0\n",
              "1          10\n",
              "2           7\n",
              "3           3\n",
              "4          10\n",
              "           ..\n",
              "3034548     8\n",
              "3034549    13\n",
              "3034550     0\n",
              "3034551    14\n",
              "3034552    23\n",
              "Name: time, Length: 3034553, dtype: int64"
            ]
          },
          "metadata": {},
          "execution_count": 44
        }
      ]
    },
    {
      "cell_type": "code",
      "execution_count": null,
      "metadata": {
        "colab": {
          "base_uri": "https://localhost:8080/"
        },
        "id": "2Vq52LIAPEps",
        "outputId": "7d69e284-266b-46fc-db9a-0e1e6571ffe7"
      },
      "outputs": [
        {
          "data": {
            "text/plain": [
              "0          00:40:36\n",
              "1          10:17:03\n",
              "2          07:37:06\n",
              "3          03:41:33\n",
              "4          10:48:17\n",
              "             ...   \n",
              "3034548    08:27:17\n",
              "3034549    13:25:52\n",
              "3034550    00:15:14\n",
              "3034551    14:58:11\n",
              "3034552    23:28:51\n",
              "Name: time, Length: 3034553, dtype: object"
            ]
          },
          "execution_count": 26,
          "metadata": {},
          "output_type": "execute_result"
        }
      ],
      "source": [
        "df_formatted['time']"
      ]
    },
    {
      "cell_type": "code",
      "execution_count": null,
      "metadata": {
        "id": "yIhM1DysPqpC",
        "colab": {
          "base_uri": "https://localhost:8080/",
          "height": 282
        },
        "outputId": "77de824a-1967-4f13-f23a-eb894ec804e4"
      },
      "outputs": [
        {
          "output_type": "execute_result",
          "data": {
            "text/plain": [
              "<matplotlib.collections.PathCollection at 0x7f6a0fd01ad0>"
            ]
          },
          "metadata": {},
          "execution_count": 36
        },
        {
          "output_type": "display_data",
          "data": {
            "image/png": "[encoded data removed]",
            "text/plain": [
              "<Figure size 432x288 with 1 Axes>"
            ]
          },
          "metadata": {
            "needs_background": "light"
          }
        }
      ],
      "source": [
        "plt.scatter(hours, df_formatted['accuracy'])"
      ]
    },
    {
      "cell_type": "markdown",
      "source": [
        "at noon time (7am - 3pm), there is higher inaccuracy observed "
      ],
      "metadata": {
        "id": "nRjzhaazTz2K"
      }
    },
    {
      "cell_type": "code",
      "execution_count": null,
      "metadata": {
        "colab": {
          "base_uri": "https://localhost:8080/",
          "height": 296
        },
        "id": "4JT5HzI_dVHd",
        "outputId": "7f4e48a8-3a6d-4a66-ec6c-45021b2e1be4"
      },
      "outputs": [
        {
          "data": {
            "text/plain": [
              "<matplotlib.axes._subplots.AxesSubplot at 0x7f6a63e61750>"
            ]
          },
          "execution_count": 24,
          "metadata": {},
          "output_type": "execute_result"
        },
        {
          "data": {
            "image/png": "[encoded data removed]",
            "text/plain": [
              "<Figure size 432x288 with 1 Axes>"
            ]
          },
          "metadata": {},
          "output_type": "display_data"
        }
      ],
      "source": [
        "initial_pings = df_formatted.groupby('trj_id')['time'].min()\n",
        "initial_pings_hours = initial_pings.apply(lambda x: x.hour)\n",
        "sns.countplot(x = initial_pings_hours, color = 'salmon')"
      ]
    }
  ],
  "metadata": {
    "colab": {
      "provenance": [],
      "toc_visible": true
    },
    "kernelspec": {
      "display_name": "Python 3",
      "name": "python3"
    },
    "language_info": {
      "name": "python"
    }
  },
  "nbformat": 4,
  "nbformat_minor": 0
}